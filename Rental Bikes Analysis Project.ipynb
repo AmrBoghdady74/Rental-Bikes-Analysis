{
 "cells": [
  {
   "cell_type": "markdown",
   "id": "1307a25c",
   "metadata": {},
   "source": [
    "## Rental Bikes Analysis\n",
    "### Problem Defintion\n",
    "1. We have a dataset with all data of rentedbikescount depends some features.\n",
    "2. Dataset features\n",
    "   * **datetime** hourly date + timestamp  \n",
    "   * **season** spring, summer, fall, winter \n",
    "   * **holiday** whether the day is considered a holiday\n",
    "   * **workingday** whether the day is neither a weekend nor holiday\n",
    "   * **weather** Clear, Mist, Rain, Snow\n",
    "   * **temp** temperature in Celsius\n",
    "   * **humidity** relative humidity\n",
    "   * **windspeed** wind speed\n",
    "   * **casual** number of non-registered user rentals initiated\n",
    "   * **registered** number of registered user rentals initiated\n",
    "   * **count** number of total rentals "
   ]
  },
  {
   "cell_type": "code",
   "execution_count": 1,
   "id": "f65299e9",
   "metadata": {},
   "outputs": [],
   "source": [
    "import numpy as np\n",
    "import pandas as pd\n",
    "import matplotlib.pyplot as plt\n",
    "import seaborn as sns\n",
    "\n",
    "sns.set(rc={'figure.figsize': [7, 7]}, font_scale = 1.2)"
   ]
  },
  {
   "cell_type": "markdown",
   "id": "7b25ab1b",
   "metadata": {},
   "source": [
    "### Read Dataset"
   ]
  },
  {
   "cell_type": "code",
   "execution_count": 2,
   "id": "65d3c500",
   "metadata": {},
   "outputs": [
    {
     "data": {
      "text/html": [
       "<div>\n",
       "<style scoped>\n",
       "    .dataframe tbody tr th:only-of-type {\n",
       "        vertical-align: middle;\n",
       "    }\n",
       "\n",
       "    .dataframe tbody tr th {\n",
       "        vertical-align: top;\n",
       "    }\n",
       "\n",
       "    .dataframe thead th {\n",
       "        text-align: right;\n",
       "    }\n",
       "</style>\n",
       "<table border=\"1\" class=\"dataframe\">\n",
       "  <thead>\n",
       "    <tr style=\"text-align: right;\">\n",
       "      <th></th>\n",
       "      <th>datetime</th>\n",
       "      <th>season</th>\n",
       "      <th>holiday</th>\n",
       "      <th>workingday</th>\n",
       "      <th>weather</th>\n",
       "      <th>temp</th>\n",
       "      <th>humidity</th>\n",
       "      <th>windspeed</th>\n",
       "      <th>casual</th>\n",
       "      <th>registered</th>\n",
       "      <th>count</th>\n",
       "    </tr>\n",
       "  </thead>\n",
       "  <tbody>\n",
       "    <tr>\n",
       "      <th>0</th>\n",
       "      <td>1/1/2011 0:00</td>\n",
       "      <td>Spring</td>\n",
       "      <td>0</td>\n",
       "      <td>0</td>\n",
       "      <td>Clear</td>\n",
       "      <td>9.84</td>\n",
       "      <td>81</td>\n",
       "      <td>0.0</td>\n",
       "      <td>3</td>\n",
       "      <td>13</td>\n",
       "      <td>16</td>\n",
       "    </tr>\n",
       "    <tr>\n",
       "      <th>1</th>\n",
       "      <td>1/1/2011 1:00</td>\n",
       "      <td>Spring</td>\n",
       "      <td>0</td>\n",
       "      <td>0</td>\n",
       "      <td>Clear</td>\n",
       "      <td>9.02</td>\n",
       "      <td>80</td>\n",
       "      <td>0.0</td>\n",
       "      <td>8</td>\n",
       "      <td>32</td>\n",
       "      <td>40</td>\n",
       "    </tr>\n",
       "    <tr>\n",
       "      <th>2</th>\n",
       "      <td>1/1/2011 2:00</td>\n",
       "      <td>Spring</td>\n",
       "      <td>0</td>\n",
       "      <td>0</td>\n",
       "      <td>Clear</td>\n",
       "      <td>9.02</td>\n",
       "      <td>80</td>\n",
       "      <td>0.0</td>\n",
       "      <td>5</td>\n",
       "      <td>27</td>\n",
       "      <td>32</td>\n",
       "    </tr>\n",
       "    <tr>\n",
       "      <th>3</th>\n",
       "      <td>1/1/2011 3:00</td>\n",
       "      <td>Spring</td>\n",
       "      <td>0</td>\n",
       "      <td>0</td>\n",
       "      <td>Clear</td>\n",
       "      <td>9.84</td>\n",
       "      <td>75</td>\n",
       "      <td>0.0</td>\n",
       "      <td>3</td>\n",
       "      <td>10</td>\n",
       "      <td>13</td>\n",
       "    </tr>\n",
       "    <tr>\n",
       "      <th>4</th>\n",
       "      <td>1/1/2011 4:00</td>\n",
       "      <td>Spring</td>\n",
       "      <td>0</td>\n",
       "      <td>0</td>\n",
       "      <td>Clear</td>\n",
       "      <td>9.84</td>\n",
       "      <td>75</td>\n",
       "      <td>0.0</td>\n",
       "      <td>0</td>\n",
       "      <td>1</td>\n",
       "      <td>1</td>\n",
       "    </tr>\n",
       "  </tbody>\n",
       "</table>\n",
       "</div>"
      ],
      "text/plain": [
       "        datetime  season  holiday  workingday weather  temp  humidity  \\\n",
       "0  1/1/2011 0:00  Spring        0           0   Clear  9.84        81   \n",
       "1  1/1/2011 1:00  Spring        0           0   Clear  9.02        80   \n",
       "2  1/1/2011 2:00  Spring        0           0   Clear  9.02        80   \n",
       "3  1/1/2011 3:00  Spring        0           0   Clear  9.84        75   \n",
       "4  1/1/2011 4:00  Spring        0           0   Clear  9.84        75   \n",
       "\n",
       "   windspeed  casual  registered  count  \n",
       "0        0.0       3          13     16  \n",
       "1        0.0       8          32     40  \n",
       "2        0.0       5          27     32  \n",
       "3        0.0       3          10     13  \n",
       "4        0.0       0           1      1  "
      ]
     },
     "execution_count": 2,
     "metadata": {},
     "output_type": "execute_result"
    }
   ],
   "source": [
    "df = pd.read_csv('D:\\Study\\Courses\\ML\\Eplision\\My Data Science Projects\\Rental Bikes Analysis\\Bikes.csv')\n",
    "df.head()"
   ]
  },
  {
   "cell_type": "markdown",
   "id": "152a334a",
   "metadata": {},
   "source": [
    "### Data Analysis\n",
    "**Questions**\n",
    "\n",
    "1. Make the Profit Feature\n",
    "   - Each registered user rent bike for 5 USD/hour.\n",
    "   - Each casual user rent bike for 20 USD/hour.\n",
    "   - Taxes 0.14%.\n",
    "   - Maintance 1500/year.\n",
    "2. Distribution Rental Bikes Count & Profit.\n",
    "3. Profit for each day of week.\n",
    "4. Which season has more registeration & profit.\n",
    "5. Which weather condition that has more registeration & profit.\n",
    "6. Correlation between profit & rental bikes count with all features.\n",
    "7. Rentals & profit during rush hours (7-9 am & 15-17 pm).\n",
    "8. Rentals & profit during workingday.\n",
    "9. Registered or Causal is more.\n",
    "10. Schools (9-12) & (2-6) profit.\n",
    "11. Profit in year 2011 & saturdays & fall season\n",
    "    - Max profit\n",
    "    - Min profit\n",
    "    - Mean profit\n",
    "    - Sum profit"
   ]
  },
  {
   "cell_type": "markdown",
   "id": "3308cd06",
   "metadata": {},
   "source": [
    "#### Make the Profit Feature"
   ]
  },
  {
   "cell_type": "code",
   "execution_count": 3,
   "id": "2033a39c",
   "metadata": {
    "scrolled": true
   },
   "outputs": [
    {
     "data": {
      "text/html": [
       "<div>\n",
       "<style scoped>\n",
       "    .dataframe tbody tr th:only-of-type {\n",
       "        vertical-align: middle;\n",
       "    }\n",
       "\n",
       "    .dataframe tbody tr th {\n",
       "        vertical-align: top;\n",
       "    }\n",
       "\n",
       "    .dataframe thead th {\n",
       "        text-align: right;\n",
       "    }\n",
       "</style>\n",
       "<table border=\"1\" class=\"dataframe\">\n",
       "  <thead>\n",
       "    <tr style=\"text-align: right;\">\n",
       "      <th></th>\n",
       "      <th>datetime</th>\n",
       "      <th>season</th>\n",
       "      <th>holiday</th>\n",
       "      <th>workingday</th>\n",
       "      <th>weather</th>\n",
       "      <th>temp</th>\n",
       "      <th>humidity</th>\n",
       "      <th>windspeed</th>\n",
       "      <th>casual</th>\n",
       "      <th>registered</th>\n",
       "      <th>count</th>\n",
       "      <th>profit</th>\n",
       "    </tr>\n",
       "  </thead>\n",
       "  <tbody>\n",
       "    <tr>\n",
       "      <th>0</th>\n",
       "      <td>1/1/2011 0:00</td>\n",
       "      <td>Spring</td>\n",
       "      <td>0</td>\n",
       "      <td>0</td>\n",
       "      <td>Clear</td>\n",
       "      <td>9.84</td>\n",
       "      <td>81</td>\n",
       "      <td>0.0</td>\n",
       "      <td>3</td>\n",
       "      <td>13</td>\n",
       "      <td>16</td>\n",
       "      <td>107.328767</td>\n",
       "    </tr>\n",
       "    <tr>\n",
       "      <th>1</th>\n",
       "      <td>1/1/2011 1:00</td>\n",
       "      <td>Spring</td>\n",
       "      <td>0</td>\n",
       "      <td>0</td>\n",
       "      <td>Clear</td>\n",
       "      <td>9.02</td>\n",
       "      <td>80</td>\n",
       "      <td>0.0</td>\n",
       "      <td>8</td>\n",
       "      <td>32</td>\n",
       "      <td>40</td>\n",
       "      <td>275.028767</td>\n",
       "    </tr>\n",
       "    <tr>\n",
       "      <th>2</th>\n",
       "      <td>1/1/2011 2:00</td>\n",
       "      <td>Spring</td>\n",
       "      <td>0</td>\n",
       "      <td>0</td>\n",
       "      <td>Clear</td>\n",
       "      <td>9.02</td>\n",
       "      <td>80</td>\n",
       "      <td>0.0</td>\n",
       "      <td>5</td>\n",
       "      <td>27</td>\n",
       "      <td>32</td>\n",
       "      <td>201.928767</td>\n",
       "    </tr>\n",
       "    <tr>\n",
       "      <th>3</th>\n",
       "      <td>1/1/2011 3:00</td>\n",
       "      <td>Spring</td>\n",
       "      <td>0</td>\n",
       "      <td>0</td>\n",
       "      <td>Clear</td>\n",
       "      <td>9.84</td>\n",
       "      <td>75</td>\n",
       "      <td>0.0</td>\n",
       "      <td>3</td>\n",
       "      <td>10</td>\n",
       "      <td>13</td>\n",
       "      <td>94.428767</td>\n",
       "    </tr>\n",
       "    <tr>\n",
       "      <th>4</th>\n",
       "      <td>1/1/2011 4:00</td>\n",
       "      <td>Spring</td>\n",
       "      <td>0</td>\n",
       "      <td>0</td>\n",
       "      <td>Clear</td>\n",
       "      <td>9.84</td>\n",
       "      <td>75</td>\n",
       "      <td>0.0</td>\n",
       "      <td>0</td>\n",
       "      <td>1</td>\n",
       "      <td>1</td>\n",
       "      <td>4.128767</td>\n",
       "    </tr>\n",
       "  </tbody>\n",
       "</table>\n",
       "</div>"
      ],
      "text/plain": [
       "        datetime  season  holiday  workingday weather  temp  humidity  \\\n",
       "0  1/1/2011 0:00  Spring        0           0   Clear  9.84        81   \n",
       "1  1/1/2011 1:00  Spring        0           0   Clear  9.02        80   \n",
       "2  1/1/2011 2:00  Spring        0           0   Clear  9.02        80   \n",
       "3  1/1/2011 3:00  Spring        0           0   Clear  9.84        75   \n",
       "4  1/1/2011 4:00  Spring        0           0   Clear  9.84        75   \n",
       "\n",
       "   windspeed  casual  registered  count      profit  \n",
       "0        0.0       3          13     16  107.328767  \n",
       "1        0.0       8          32     40  275.028767  \n",
       "2        0.0       5          27     32  201.928767  \n",
       "3        0.0       3          10     13   94.428767  \n",
       "4        0.0       0           1      1    4.128767  "
      ]
     },
     "execution_count": 3,
     "metadata": {},
     "output_type": "execute_result"
    }
   ],
   "source": [
    "def calc_profit(values):\n",
    "    profit_cash = (values['casual'] * 20 + values['registered'] * 5)\n",
    "    profit_with_taxes = profit_cash - (profit_cash * 0.14)\n",
    "    final_profit = profit_with_taxes - (1500 / (365*24)) # To get maintance per hour\n",
    "    return final_profit\n",
    "\n",
    "df['profit'] = df[['casual', 'registered']].apply(calc_profit, axis = 1)\n",
    "df.head()"
   ]
  },
  {
   "cell_type": "code",
   "execution_count": 4,
   "id": "38b44540",
   "metadata": {},
   "outputs": [
    {
     "data": {
      "text/html": [
       "<div>\n",
       "<style scoped>\n",
       "    .dataframe tbody tr th:only-of-type {\n",
       "        vertical-align: middle;\n",
       "    }\n",
       "\n",
       "    .dataframe tbody tr th {\n",
       "        vertical-align: top;\n",
       "    }\n",
       "\n",
       "    .dataframe thead th {\n",
       "        text-align: right;\n",
       "    }\n",
       "</style>\n",
       "<table border=\"1\" class=\"dataframe\">\n",
       "  <thead>\n",
       "    <tr style=\"text-align: right;\">\n",
       "      <th></th>\n",
       "      <th>datetime</th>\n",
       "      <th>season</th>\n",
       "      <th>holiday</th>\n",
       "      <th>workingday</th>\n",
       "      <th>weather</th>\n",
       "      <th>temp</th>\n",
       "      <th>humidity</th>\n",
       "      <th>windspeed</th>\n",
       "      <th>casual</th>\n",
       "      <th>registered</th>\n",
       "      <th>count</th>\n",
       "      <th>profit</th>\n",
       "    </tr>\n",
       "  </thead>\n",
       "  <tbody>\n",
       "    <tr>\n",
       "      <th>0</th>\n",
       "      <td>1/1/2011 0:00</td>\n",
       "      <td>Spring</td>\n",
       "      <td>0</td>\n",
       "      <td>0</td>\n",
       "      <td>Clear</td>\n",
       "      <td>9.84</td>\n",
       "      <td>81</td>\n",
       "      <td>0.0</td>\n",
       "      <td>3</td>\n",
       "      <td>13</td>\n",
       "      <td>16</td>\n",
       "      <td>107.328767</td>\n",
       "    </tr>\n",
       "    <tr>\n",
       "      <th>1</th>\n",
       "      <td>1/1/2011 1:00</td>\n",
       "      <td>Spring</td>\n",
       "      <td>0</td>\n",
       "      <td>0</td>\n",
       "      <td>Clear</td>\n",
       "      <td>9.02</td>\n",
       "      <td>80</td>\n",
       "      <td>0.0</td>\n",
       "      <td>8</td>\n",
       "      <td>32</td>\n",
       "      <td>40</td>\n",
       "      <td>275.028767</td>\n",
       "    </tr>\n",
       "    <tr>\n",
       "      <th>2</th>\n",
       "      <td>1/1/2011 2:00</td>\n",
       "      <td>Spring</td>\n",
       "      <td>0</td>\n",
       "      <td>0</td>\n",
       "      <td>Clear</td>\n",
       "      <td>9.02</td>\n",
       "      <td>80</td>\n",
       "      <td>0.0</td>\n",
       "      <td>5</td>\n",
       "      <td>27</td>\n",
       "      <td>32</td>\n",
       "      <td>201.928767</td>\n",
       "    </tr>\n",
       "    <tr>\n",
       "      <th>3</th>\n",
       "      <td>1/1/2011 3:00</td>\n",
       "      <td>Spring</td>\n",
       "      <td>0</td>\n",
       "      <td>0</td>\n",
       "      <td>Clear</td>\n",
       "      <td>9.84</td>\n",
       "      <td>75</td>\n",
       "      <td>0.0</td>\n",
       "      <td>3</td>\n",
       "      <td>10</td>\n",
       "      <td>13</td>\n",
       "      <td>94.428767</td>\n",
       "    </tr>\n",
       "    <tr>\n",
       "      <th>4</th>\n",
       "      <td>1/1/2011 4:00</td>\n",
       "      <td>Spring</td>\n",
       "      <td>0</td>\n",
       "      <td>0</td>\n",
       "      <td>Clear</td>\n",
       "      <td>9.84</td>\n",
       "      <td>75</td>\n",
       "      <td>0.0</td>\n",
       "      <td>0</td>\n",
       "      <td>1</td>\n",
       "      <td>1</td>\n",
       "      <td>4.128767</td>\n",
       "    </tr>\n",
       "  </tbody>\n",
       "</table>\n",
       "</div>"
      ],
      "text/plain": [
       "        datetime  season  holiday  workingday weather  temp  humidity  \\\n",
       "0  1/1/2011 0:00  Spring        0           0   Clear  9.84        81   \n",
       "1  1/1/2011 1:00  Spring        0           0   Clear  9.02        80   \n",
       "2  1/1/2011 2:00  Spring        0           0   Clear  9.02        80   \n",
       "3  1/1/2011 3:00  Spring        0           0   Clear  9.84        75   \n",
       "4  1/1/2011 4:00  Spring        0           0   Clear  9.84        75   \n",
       "\n",
       "   windspeed  casual  registered  count      profit  \n",
       "0        0.0       3          13     16  107.328767  \n",
       "1        0.0       8          32     40  275.028767  \n",
       "2        0.0       5          27     32  201.928767  \n",
       "3        0.0       3          10     13   94.428767  \n",
       "4        0.0       0           1      1    4.128767  "
      ]
     },
     "execution_count": 4,
     "metadata": {},
     "output_type": "execute_result"
    }
   ],
   "source": [
    "df.head()"
   ]
  },
  {
   "cell_type": "markdown",
   "id": "85667e10",
   "metadata": {},
   "source": [
    "#### Distribution Rental Bikes Count & Profit"
   ]
  },
  {
   "cell_type": "code",
   "execution_count": 5,
   "id": "8a370cd6",
   "metadata": {},
   "outputs": [
    {
     "data": {
      "text/plain": [
       "count    10886.000000\n",
       "mean       191.574132\n",
       "std        181.144454\n",
       "min          1.000000\n",
       "25%         42.000000\n",
       "50%        145.000000\n",
       "75%        284.000000\n",
       "max        977.000000\n",
       "Name: count, dtype: float64"
      ]
     },
     "execution_count": 5,
     "metadata": {},
     "output_type": "execute_result"
    }
   ],
   "source": [
    "df['count'].describe() # Rented bikes count dist"
   ]
  },
  {
   "cell_type": "code",
   "execution_count": 6,
   "id": "c0e2e631",
   "metadata": {},
   "outputs": [
    {
     "data": {
      "text/html": [
       "<div>\n",
       "<style scoped>\n",
       "    .dataframe tbody tr th:only-of-type {\n",
       "        vertical-align: middle;\n",
       "    }\n",
       "\n",
       "    .dataframe tbody tr th {\n",
       "        vertical-align: top;\n",
       "    }\n",
       "\n",
       "    .dataframe thead th {\n",
       "        text-align: right;\n",
       "    }\n",
       "</style>\n",
       "<table border=\"1\" class=\"dataframe\">\n",
       "  <thead>\n",
       "    <tr style=\"text-align: right;\">\n",
       "      <th></th>\n",
       "      <th>datetime</th>\n",
       "      <th>season</th>\n",
       "      <th>holiday</th>\n",
       "      <th>workingday</th>\n",
       "      <th>weather</th>\n",
       "      <th>temp</th>\n",
       "      <th>humidity</th>\n",
       "      <th>windspeed</th>\n",
       "      <th>casual</th>\n",
       "      <th>registered</th>\n",
       "      <th>count</th>\n",
       "      <th>profit</th>\n",
       "    </tr>\n",
       "  </thead>\n",
       "  <tbody>\n",
       "    <tr>\n",
       "      <th>9345</th>\n",
       "      <td>9/12/2012 18:00</td>\n",
       "      <td>Fall</td>\n",
       "      <td>0</td>\n",
       "      <td>1</td>\n",
       "      <td>Clear</td>\n",
       "      <td>27.06</td>\n",
       "      <td>44</td>\n",
       "      <td>16.9979</td>\n",
       "      <td>91</td>\n",
       "      <td>886</td>\n",
       "      <td>977</td>\n",
       "      <td>5374.828767</td>\n",
       "    </tr>\n",
       "  </tbody>\n",
       "</table>\n",
       "</div>"
      ],
      "text/plain": [
       "             datetime season  holiday  workingday weather   temp  humidity  \\\n",
       "9345  9/12/2012 18:00   Fall        0           1   Clear  27.06        44   \n",
       "\n",
       "      windspeed  casual  registered  count       profit  \n",
       "9345    16.9979      91         886    977  5374.828767  "
      ]
     },
     "execution_count": 6,
     "metadata": {},
     "output_type": "execute_result"
    }
   ],
   "source": [
    "# Get record with max rented bikes count\n",
    "df[df['count'] == df['count'].max()]"
   ]
  },
  {
   "cell_type": "code",
   "execution_count": 7,
   "id": "5d3a3249",
   "metadata": {},
   "outputs": [
    {
     "data": {
      "text/plain": [
       "count    10886.000000\n",
       "mean      1288.280751\n",
       "std       1309.683400\n",
       "min          4.128767\n",
       "25%        253.528767\n",
       "50%        889.928767\n",
       "75%       1891.828767\n",
       "max       7881.728767\n",
       "Name: profit, dtype: float64"
      ]
     },
     "execution_count": 7,
     "metadata": {},
     "output_type": "execute_result"
    }
   ],
   "source": [
    "df['profit'].describe() # Profit dist"
   ]
  },
  {
   "cell_type": "code",
   "execution_count": 8,
   "id": "bf963992",
   "metadata": {},
   "outputs": [
    {
     "data": {
      "text/html": [
       "<div>\n",
       "<style scoped>\n",
       "    .dataframe tbody tr th:only-of-type {\n",
       "        vertical-align: middle;\n",
       "    }\n",
       "\n",
       "    .dataframe tbody tr th {\n",
       "        vertical-align: top;\n",
       "    }\n",
       "\n",
       "    .dataframe thead th {\n",
       "        text-align: right;\n",
       "    }\n",
       "</style>\n",
       "<table border=\"1\" class=\"dataframe\">\n",
       "  <thead>\n",
       "    <tr style=\"text-align: right;\">\n",
       "      <th></th>\n",
       "      <th>datetime</th>\n",
       "      <th>season</th>\n",
       "      <th>holiday</th>\n",
       "      <th>workingday</th>\n",
       "      <th>weather</th>\n",
       "      <th>temp</th>\n",
       "      <th>humidity</th>\n",
       "      <th>windspeed</th>\n",
       "      <th>casual</th>\n",
       "      <th>registered</th>\n",
       "      <th>count</th>\n",
       "      <th>profit</th>\n",
       "    </tr>\n",
       "  </thead>\n",
       "  <tbody>\n",
       "    <tr>\n",
       "      <th>9415</th>\n",
       "      <td>9/15/2012 16:00</td>\n",
       "      <td>Fall</td>\n",
       "      <td>0</td>\n",
       "      <td>0</td>\n",
       "      <td>Mist</td>\n",
       "      <td>27.06</td>\n",
       "      <td>36</td>\n",
       "      <td>15.0013</td>\n",
       "      <td>350</td>\n",
       "      <td>433</td>\n",
       "      <td>783</td>\n",
       "      <td>7881.728767</td>\n",
       "    </tr>\n",
       "  </tbody>\n",
       "</table>\n",
       "</div>"
      ],
      "text/plain": [
       "             datetime season  holiday  workingday weather   temp  humidity  \\\n",
       "9415  9/15/2012 16:00   Fall        0           0    Mist  27.06        36   \n",
       "\n",
       "      windspeed  casual  registered  count       profit  \n",
       "9415    15.0013     350         433    783  7881.728767  "
      ]
     },
     "execution_count": 8,
     "metadata": {},
     "output_type": "execute_result"
    }
   ],
   "source": [
    "# Get record with max profit\n",
    "df[df['profit'] == df['profit'].max()]"
   ]
  },
  {
   "cell_type": "markdown",
   "id": "42c9e0df",
   "metadata": {},
   "source": [
    "**Notes:** As we noticed the 2 records are different because in the max profit record No. of casuals more than casual in \n",
    "           the max renatl bike count record. \n",
    "           So the profit in the second record highest than first record."
   ]
  },
  {
   "cell_type": "markdown",
   "id": "7fa06c5b",
   "metadata": {},
   "source": [
    "#### Profit for each day of week"
   ]
  },
  {
   "cell_type": "markdown",
   "id": "52190c7d",
   "metadata": {},
   "source": [
    "**Note:** We need to groupby day and we doesn't have such column, so we need to extract from datetime column day feature."
   ]
  },
  {
   "cell_type": "code",
   "execution_count": 9,
   "id": "6d6ba5fa",
   "metadata": {},
   "outputs": [
    {
     "data": {
      "text/html": [
       "<div>\n",
       "<style scoped>\n",
       "    .dataframe tbody tr th:only-of-type {\n",
       "        vertical-align: middle;\n",
       "    }\n",
       "\n",
       "    .dataframe tbody tr th {\n",
       "        vertical-align: top;\n",
       "    }\n",
       "\n",
       "    .dataframe thead th {\n",
       "        text-align: right;\n",
       "    }\n",
       "</style>\n",
       "<table border=\"1\" class=\"dataframe\">\n",
       "  <thead>\n",
       "    <tr style=\"text-align: right;\">\n",
       "      <th></th>\n",
       "      <th>datetime</th>\n",
       "      <th>season</th>\n",
       "      <th>holiday</th>\n",
       "      <th>workingday</th>\n",
       "      <th>weather</th>\n",
       "      <th>temp</th>\n",
       "      <th>humidity</th>\n",
       "      <th>windspeed</th>\n",
       "      <th>casual</th>\n",
       "      <th>registered</th>\n",
       "      <th>count</th>\n",
       "      <th>profit</th>\n",
       "    </tr>\n",
       "  </thead>\n",
       "  <tbody>\n",
       "    <tr>\n",
       "      <th>0</th>\n",
       "      <td>1/1/2011 0:00</td>\n",
       "      <td>Spring</td>\n",
       "      <td>0</td>\n",
       "      <td>0</td>\n",
       "      <td>Clear</td>\n",
       "      <td>9.84</td>\n",
       "      <td>81</td>\n",
       "      <td>0.0000</td>\n",
       "      <td>3</td>\n",
       "      <td>13</td>\n",
       "      <td>16</td>\n",
       "      <td>107.328767</td>\n",
       "    </tr>\n",
       "    <tr>\n",
       "      <th>1</th>\n",
       "      <td>1/1/2011 1:00</td>\n",
       "      <td>Spring</td>\n",
       "      <td>0</td>\n",
       "      <td>0</td>\n",
       "      <td>Clear</td>\n",
       "      <td>9.02</td>\n",
       "      <td>80</td>\n",
       "      <td>0.0000</td>\n",
       "      <td>8</td>\n",
       "      <td>32</td>\n",
       "      <td>40</td>\n",
       "      <td>275.028767</td>\n",
       "    </tr>\n",
       "    <tr>\n",
       "      <th>2</th>\n",
       "      <td>1/1/2011 2:00</td>\n",
       "      <td>Spring</td>\n",
       "      <td>0</td>\n",
       "      <td>0</td>\n",
       "      <td>Clear</td>\n",
       "      <td>9.02</td>\n",
       "      <td>80</td>\n",
       "      <td>0.0000</td>\n",
       "      <td>5</td>\n",
       "      <td>27</td>\n",
       "      <td>32</td>\n",
       "      <td>201.928767</td>\n",
       "    </tr>\n",
       "    <tr>\n",
       "      <th>3</th>\n",
       "      <td>1/1/2011 3:00</td>\n",
       "      <td>Spring</td>\n",
       "      <td>0</td>\n",
       "      <td>0</td>\n",
       "      <td>Clear</td>\n",
       "      <td>9.84</td>\n",
       "      <td>75</td>\n",
       "      <td>0.0000</td>\n",
       "      <td>3</td>\n",
       "      <td>10</td>\n",
       "      <td>13</td>\n",
       "      <td>94.428767</td>\n",
       "    </tr>\n",
       "    <tr>\n",
       "      <th>4</th>\n",
       "      <td>1/1/2011 4:00</td>\n",
       "      <td>Spring</td>\n",
       "      <td>0</td>\n",
       "      <td>0</td>\n",
       "      <td>Clear</td>\n",
       "      <td>9.84</td>\n",
       "      <td>75</td>\n",
       "      <td>0.0000</td>\n",
       "      <td>0</td>\n",
       "      <td>1</td>\n",
       "      <td>1</td>\n",
       "      <td>4.128767</td>\n",
       "    </tr>\n",
       "    <tr>\n",
       "      <th>...</th>\n",
       "      <td>...</td>\n",
       "      <td>...</td>\n",
       "      <td>...</td>\n",
       "      <td>...</td>\n",
       "      <td>...</td>\n",
       "      <td>...</td>\n",
       "      <td>...</td>\n",
       "      <td>...</td>\n",
       "      <td>...</td>\n",
       "      <td>...</td>\n",
       "      <td>...</td>\n",
       "      <td>...</td>\n",
       "    </tr>\n",
       "    <tr>\n",
       "      <th>10881</th>\n",
       "      <td>12/19/2012 19:00</td>\n",
       "      <td>Winter</td>\n",
       "      <td>0</td>\n",
       "      <td>1</td>\n",
       "      <td>Clear</td>\n",
       "      <td>15.58</td>\n",
       "      <td>50</td>\n",
       "      <td>26.0027</td>\n",
       "      <td>7</td>\n",
       "      <td>329</td>\n",
       "      <td>336</td>\n",
       "      <td>1534.928767</td>\n",
       "    </tr>\n",
       "    <tr>\n",
       "      <th>10882</th>\n",
       "      <td>12/19/2012 20:00</td>\n",
       "      <td>Winter</td>\n",
       "      <td>0</td>\n",
       "      <td>1</td>\n",
       "      <td>Clear</td>\n",
       "      <td>14.76</td>\n",
       "      <td>57</td>\n",
       "      <td>15.0013</td>\n",
       "      <td>10</td>\n",
       "      <td>231</td>\n",
       "      <td>241</td>\n",
       "      <td>1165.128767</td>\n",
       "    </tr>\n",
       "    <tr>\n",
       "      <th>10883</th>\n",
       "      <td>12/19/2012 21:00</td>\n",
       "      <td>Winter</td>\n",
       "      <td>0</td>\n",
       "      <td>1</td>\n",
       "      <td>Clear</td>\n",
       "      <td>13.94</td>\n",
       "      <td>61</td>\n",
       "      <td>15.0013</td>\n",
       "      <td>4</td>\n",
       "      <td>164</td>\n",
       "      <td>168</td>\n",
       "      <td>773.828767</td>\n",
       "    </tr>\n",
       "    <tr>\n",
       "      <th>10884</th>\n",
       "      <td>12/19/2012 22:00</td>\n",
       "      <td>Winter</td>\n",
       "      <td>0</td>\n",
       "      <td>1</td>\n",
       "      <td>Clear</td>\n",
       "      <td>13.94</td>\n",
       "      <td>61</td>\n",
       "      <td>6.0032</td>\n",
       "      <td>12</td>\n",
       "      <td>117</td>\n",
       "      <td>129</td>\n",
       "      <td>709.328767</td>\n",
       "    </tr>\n",
       "    <tr>\n",
       "      <th>10885</th>\n",
       "      <td>12/19/2012 23:00</td>\n",
       "      <td>Winter</td>\n",
       "      <td>0</td>\n",
       "      <td>1</td>\n",
       "      <td>Clear</td>\n",
       "      <td>13.12</td>\n",
       "      <td>66</td>\n",
       "      <td>8.9981</td>\n",
       "      <td>4</td>\n",
       "      <td>84</td>\n",
       "      <td>88</td>\n",
       "      <td>429.828767</td>\n",
       "    </tr>\n",
       "  </tbody>\n",
       "</table>\n",
       "<p>10886 rows × 12 columns</p>\n",
       "</div>"
      ],
      "text/plain": [
       "               datetime   season  holiday  workingday weather   temp  \\\n",
       "0         1/1/2011 0:00   Spring        0           0   Clear   9.84   \n",
       "1         1/1/2011 1:00   Spring        0           0   Clear   9.02   \n",
       "2         1/1/2011 2:00   Spring        0           0   Clear   9.02   \n",
       "3         1/1/2011 3:00   Spring        0           0   Clear   9.84   \n",
       "4         1/1/2011 4:00   Spring        0           0   Clear   9.84   \n",
       "...                 ...      ...      ...         ...     ...    ...   \n",
       "10881  12/19/2012 19:00  Winter         0           1   Clear  15.58   \n",
       "10882  12/19/2012 20:00  Winter         0           1   Clear  14.76   \n",
       "10883  12/19/2012 21:00  Winter         0           1   Clear  13.94   \n",
       "10884  12/19/2012 22:00  Winter         0           1   Clear  13.94   \n",
       "10885  12/19/2012 23:00  Winter         0           1   Clear  13.12   \n",
       "\n",
       "       humidity  windspeed  casual  registered  count       profit  \n",
       "0            81     0.0000       3          13     16   107.328767  \n",
       "1            80     0.0000       8          32     40   275.028767  \n",
       "2            80     0.0000       5          27     32   201.928767  \n",
       "3            75     0.0000       3          10     13    94.428767  \n",
       "4            75     0.0000       0           1      1     4.128767  \n",
       "...         ...        ...     ...         ...    ...          ...  \n",
       "10881        50    26.0027       7         329    336  1534.928767  \n",
       "10882        57    15.0013      10         231    241  1165.128767  \n",
       "10883        61    15.0013       4         164    168   773.828767  \n",
       "10884        61     6.0032      12         117    129   709.328767  \n",
       "10885        66     8.9981       4          84     88   429.828767  \n",
       "\n",
       "[10886 rows x 12 columns]"
      ]
     },
     "execution_count": 9,
     "metadata": {},
     "output_type": "execute_result"
    }
   ],
   "source": [
    "df"
   ]
  },
  {
   "cell_type": "code",
   "execution_count": 10,
   "id": "69dfa8c9",
   "metadata": {},
   "outputs": [
    {
     "name": "stdout",
     "output_type": "stream",
     "text": [
      "<class 'pandas.core.frame.DataFrame'>\n",
      "RangeIndex: 10886 entries, 0 to 10885\n",
      "Data columns (total 12 columns):\n",
      " #   Column      Non-Null Count  Dtype  \n",
      "---  ------      --------------  -----  \n",
      " 0   datetime    10886 non-null  object \n",
      " 1   season      10886 non-null  object \n",
      " 2   holiday     10886 non-null  int64  \n",
      " 3   workingday  10886 non-null  int64  \n",
      " 4   weather     10886 non-null  object \n",
      " 5   temp        10886 non-null  float64\n",
      " 6   humidity    10886 non-null  int64  \n",
      " 7   windspeed   10886 non-null  float64\n",
      " 8   casual      10886 non-null  int64  \n",
      " 9   registered  10886 non-null  int64  \n",
      " 10  count       10886 non-null  int64  \n",
      " 11  profit      10886 non-null  float64\n",
      "dtypes: float64(3), int64(6), object(3)\n",
      "memory usage: 1020.7+ KB\n"
     ]
    }
   ],
   "source": [
    "df.info()"
   ]
  },
  {
   "cell_type": "markdown",
   "id": "be460cc3",
   "metadata": {},
   "source": [
    "**Note:** The datetime feature is object, so we need to convert this column to datetime"
   ]
  },
  {
   "cell_type": "code",
   "execution_count": 11,
   "id": "16666f7d",
   "metadata": {},
   "outputs": [
    {
     "name": "stdout",
     "output_type": "stream",
     "text": [
      "<class 'pandas.core.frame.DataFrame'>\n",
      "RangeIndex: 10886 entries, 0 to 10885\n",
      "Data columns (total 12 columns):\n",
      " #   Column      Non-Null Count  Dtype         \n",
      "---  ------      --------------  -----         \n",
      " 0   datetime    10886 non-null  datetime64[ns]\n",
      " 1   season      10886 non-null  object        \n",
      " 2   holiday     10886 non-null  int64         \n",
      " 3   workingday  10886 non-null  int64         \n",
      " 4   weather     10886 non-null  object        \n",
      " 5   temp        10886 non-null  float64       \n",
      " 6   humidity    10886 non-null  int64         \n",
      " 7   windspeed   10886 non-null  float64       \n",
      " 8   casual      10886 non-null  int64         \n",
      " 9   registered  10886 non-null  int64         \n",
      " 10  count       10886 non-null  int64         \n",
      " 11  profit      10886 non-null  float64       \n",
      "dtypes: datetime64[ns](1), float64(3), int64(6), object(2)\n",
      "memory usage: 1020.7+ KB\n"
     ]
    }
   ],
   "source": [
    "df['datetime'] = pd.to_datetime(df['datetime'], format='%m/%d/%Y %H:%M', errors='coerce')\n",
    "df.info()"
   ]
  },
  {
   "cell_type": "markdown",
   "id": "5d748b39",
   "metadata": {},
   "source": [
    "**Note:** Now datetime feature is datetime type not object."
   ]
  },
  {
   "cell_type": "code",
   "execution_count": 12,
   "id": "1b65f366",
   "metadata": {},
   "outputs": [
    {
     "data": {
      "text/html": [
       "<div>\n",
       "<style scoped>\n",
       "    .dataframe tbody tr th:only-of-type {\n",
       "        vertical-align: middle;\n",
       "    }\n",
       "\n",
       "    .dataframe tbody tr th {\n",
       "        vertical-align: top;\n",
       "    }\n",
       "\n",
       "    .dataframe thead th {\n",
       "        text-align: right;\n",
       "    }\n",
       "</style>\n",
       "<table border=\"1\" class=\"dataframe\">\n",
       "  <thead>\n",
       "    <tr style=\"text-align: right;\">\n",
       "      <th></th>\n",
       "      <th>datetime</th>\n",
       "      <th>season</th>\n",
       "      <th>holiday</th>\n",
       "      <th>workingday</th>\n",
       "      <th>weather</th>\n",
       "      <th>temp</th>\n",
       "      <th>humidity</th>\n",
       "      <th>windspeed</th>\n",
       "      <th>casual</th>\n",
       "      <th>registered</th>\n",
       "      <th>count</th>\n",
       "      <th>profit</th>\n",
       "      <th>year</th>\n",
       "      <th>month_name</th>\n",
       "      <th>month</th>\n",
       "      <th>day_name</th>\n",
       "      <th>hour</th>\n",
       "    </tr>\n",
       "  </thead>\n",
       "  <tbody>\n",
       "    <tr>\n",
       "      <th>0</th>\n",
       "      <td>2011-01-01 00:00:00</td>\n",
       "      <td>Spring</td>\n",
       "      <td>0</td>\n",
       "      <td>0</td>\n",
       "      <td>Clear</td>\n",
       "      <td>9.84</td>\n",
       "      <td>81</td>\n",
       "      <td>0.0</td>\n",
       "      <td>3</td>\n",
       "      <td>13</td>\n",
       "      <td>16</td>\n",
       "      <td>107.328767</td>\n",
       "      <td>2011</td>\n",
       "      <td>January</td>\n",
       "      <td>1</td>\n",
       "      <td>Saturday</td>\n",
       "      <td>0</td>\n",
       "    </tr>\n",
       "    <tr>\n",
       "      <th>1</th>\n",
       "      <td>2011-01-01 01:00:00</td>\n",
       "      <td>Spring</td>\n",
       "      <td>0</td>\n",
       "      <td>0</td>\n",
       "      <td>Clear</td>\n",
       "      <td>9.02</td>\n",
       "      <td>80</td>\n",
       "      <td>0.0</td>\n",
       "      <td>8</td>\n",
       "      <td>32</td>\n",
       "      <td>40</td>\n",
       "      <td>275.028767</td>\n",
       "      <td>2011</td>\n",
       "      <td>January</td>\n",
       "      <td>1</td>\n",
       "      <td>Saturday</td>\n",
       "      <td>1</td>\n",
       "    </tr>\n",
       "    <tr>\n",
       "      <th>2</th>\n",
       "      <td>2011-01-01 02:00:00</td>\n",
       "      <td>Spring</td>\n",
       "      <td>0</td>\n",
       "      <td>0</td>\n",
       "      <td>Clear</td>\n",
       "      <td>9.02</td>\n",
       "      <td>80</td>\n",
       "      <td>0.0</td>\n",
       "      <td>5</td>\n",
       "      <td>27</td>\n",
       "      <td>32</td>\n",
       "      <td>201.928767</td>\n",
       "      <td>2011</td>\n",
       "      <td>January</td>\n",
       "      <td>1</td>\n",
       "      <td>Saturday</td>\n",
       "      <td>2</td>\n",
       "    </tr>\n",
       "    <tr>\n",
       "      <th>3</th>\n",
       "      <td>2011-01-01 03:00:00</td>\n",
       "      <td>Spring</td>\n",
       "      <td>0</td>\n",
       "      <td>0</td>\n",
       "      <td>Clear</td>\n",
       "      <td>9.84</td>\n",
       "      <td>75</td>\n",
       "      <td>0.0</td>\n",
       "      <td>3</td>\n",
       "      <td>10</td>\n",
       "      <td>13</td>\n",
       "      <td>94.428767</td>\n",
       "      <td>2011</td>\n",
       "      <td>January</td>\n",
       "      <td>1</td>\n",
       "      <td>Saturday</td>\n",
       "      <td>3</td>\n",
       "    </tr>\n",
       "    <tr>\n",
       "      <th>4</th>\n",
       "      <td>2011-01-01 04:00:00</td>\n",
       "      <td>Spring</td>\n",
       "      <td>0</td>\n",
       "      <td>0</td>\n",
       "      <td>Clear</td>\n",
       "      <td>9.84</td>\n",
       "      <td>75</td>\n",
       "      <td>0.0</td>\n",
       "      <td>0</td>\n",
       "      <td>1</td>\n",
       "      <td>1</td>\n",
       "      <td>4.128767</td>\n",
       "      <td>2011</td>\n",
       "      <td>January</td>\n",
       "      <td>1</td>\n",
       "      <td>Saturday</td>\n",
       "      <td>4</td>\n",
       "    </tr>\n",
       "  </tbody>\n",
       "</table>\n",
       "</div>"
      ],
      "text/plain": [
       "             datetime  season  holiday  workingday weather  temp  humidity  \\\n",
       "0 2011-01-01 00:00:00  Spring        0           0   Clear  9.84        81   \n",
       "1 2011-01-01 01:00:00  Spring        0           0   Clear  9.02        80   \n",
       "2 2011-01-01 02:00:00  Spring        0           0   Clear  9.02        80   \n",
       "3 2011-01-01 03:00:00  Spring        0           0   Clear  9.84        75   \n",
       "4 2011-01-01 04:00:00  Spring        0           0   Clear  9.84        75   \n",
       "\n",
       "   windspeed  casual  registered  count      profit  year month_name  month  \\\n",
       "0        0.0       3          13     16  107.328767  2011    January      1   \n",
       "1        0.0       8          32     40  275.028767  2011    January      1   \n",
       "2        0.0       5          27     32  201.928767  2011    January      1   \n",
       "3        0.0       3          10     13   94.428767  2011    January      1   \n",
       "4        0.0       0           1      1    4.128767  2011    January      1   \n",
       "\n",
       "   day_name  hour  \n",
       "0  Saturday     0  \n",
       "1  Saturday     1  \n",
       "2  Saturday     2  \n",
       "3  Saturday     3  \n",
       "4  Saturday     4  "
      ]
     },
     "execution_count": 12,
     "metadata": {},
     "output_type": "execute_result"
    }
   ],
   "source": [
    "df['year'] = df['datetime'].dt.year\n",
    "df['month_name'] = df['datetime'].dt.month_name()\n",
    "df['month'] = df['datetime'].dt.month\n",
    "df['day_name'] = df['datetime'].dt.day_name()\n",
    "df['hour'] = df['datetime'].dt.hour\n",
    "\n",
    "df.head()"
   ]
  },
  {
   "cell_type": "code",
   "execution_count": 13,
   "id": "e6a89971",
   "metadata": {},
   "outputs": [
    {
     "data": {
      "text/html": [
       "<div>\n",
       "<style scoped>\n",
       "    .dataframe tbody tr th:only-of-type {\n",
       "        vertical-align: middle;\n",
       "    }\n",
       "\n",
       "    .dataframe tbody tr th {\n",
       "        vertical-align: top;\n",
       "    }\n",
       "\n",
       "    .dataframe thead th {\n",
       "        text-align: right;\n",
       "    }\n",
       "</style>\n",
       "<table border=\"1\" class=\"dataframe\">\n",
       "  <thead>\n",
       "    <tr style=\"text-align: right;\">\n",
       "      <th>day_name</th>\n",
       "      <th>Friday</th>\n",
       "      <th>Monday</th>\n",
       "      <th>Saturday</th>\n",
       "      <th>Sunday</th>\n",
       "      <th>Thursday</th>\n",
       "      <th>Tuesday</th>\n",
       "      <th>Wednesday</th>\n",
       "    </tr>\n",
       "  </thead>\n",
       "  <tbody>\n",
       "    <tr>\n",
       "      <th>count</th>\n",
       "      <td>197.844343</td>\n",
       "      <td>190.390716</td>\n",
       "      <td>196.665404</td>\n",
       "      <td>180.839772</td>\n",
       "      <td>197.296201</td>\n",
       "      <td>189.723847</td>\n",
       "      <td>188.411348</td>\n",
       "    </tr>\n",
       "    <tr>\n",
       "      <th>profit</th>\n",
       "      <td>1250.484751</td>\n",
       "      <td>1203.496079</td>\n",
       "      <td>1666.252504</td>\n",
       "      <td>1513.401535</td>\n",
       "      <td>1157.893803</td>\n",
       "      <td>1112.073082</td>\n",
       "      <td>1100.526188</td>\n",
       "    </tr>\n",
       "  </tbody>\n",
       "</table>\n",
       "</div>"
      ],
      "text/plain": [
       "day_name       Friday       Monday     Saturday       Sunday     Thursday  \\\n",
       "count      197.844343   190.390716   196.665404   180.839772   197.296201   \n",
       "profit    1250.484751  1203.496079  1666.252504  1513.401535  1157.893803   \n",
       "\n",
       "day_name      Tuesday    Wednesday  \n",
       "count      189.723847   188.411348  \n",
       "profit    1112.073082  1100.526188  "
      ]
     },
     "execution_count": 13,
     "metadata": {},
     "output_type": "execute_result"
    }
   ],
   "source": [
    "# \n",
    "df.groupby('day_name').mean()[['count', 'profit']].T"
   ]
  },
  {
   "cell_type": "markdown",
   "id": "efc5e63f",
   "metadata": {},
   "source": [
    "**Note:** \n",
    "* We found that mean count of bikes rented in Friday, but the mean profit of day in Saturday, So the job owner should focus on Saturday. \n",
    "* And the profit in Saturday greater than Wednesday despit the count of rented bikes in Wednesday much more cuz the casual and registered."
   ]
  },
  {
   "cell_type": "markdown",
   "id": "0120e60d",
   "metadata": {},
   "source": [
    "#### Which season has more registeration & profit."
   ]
  },
  {
   "cell_type": "code",
   "execution_count": 14,
   "id": "3caea226",
   "metadata": {},
   "outputs": [
    {
     "data": {
      "text/html": [
       "<div>\n",
       "<style scoped>\n",
       "    .dataframe tbody tr th:only-of-type {\n",
       "        vertical-align: middle;\n",
       "    }\n",
       "\n",
       "    .dataframe tbody tr th {\n",
       "        vertical-align: top;\n",
       "    }\n",
       "\n",
       "    .dataframe thead th {\n",
       "        text-align: right;\n",
       "    }\n",
       "</style>\n",
       "<table border=\"1\" class=\"dataframe\">\n",
       "  <thead>\n",
       "    <tr style=\"text-align: right;\">\n",
       "      <th>season</th>\n",
       "      <th>Fall</th>\n",
       "      <th>Spring</th>\n",
       "      <th>Summer</th>\n",
       "      <th>Winter</th>\n",
       "    </tr>\n",
       "  </thead>\n",
       "  <tbody>\n",
       "    <tr>\n",
       "      <th>count</th>\n",
       "      <td>234.417124</td>\n",
       "      <td>116.343261</td>\n",
       "      <td>215.251372</td>\n",
       "      <td>198.988296</td>\n",
       "    </tr>\n",
       "    <tr>\n",
       "      <th>profit</th>\n",
       "      <td>1681.463893</td>\n",
       "      <td>699.920316</td>\n",
       "      <td>1537.472894</td>\n",
       "      <td>1224.171196</td>\n",
       "    </tr>\n",
       "  </tbody>\n",
       "</table>\n",
       "</div>"
      ],
      "text/plain": [
       "season         Fall      Spring       Summer      Winter \n",
       "count    234.417124  116.343261   215.251372   198.988296\n",
       "profit  1681.463893  699.920316  1537.472894  1224.171196"
      ]
     },
     "execution_count": 14,
     "metadata": {},
     "output_type": "execute_result"
    }
   ],
   "source": [
    "# df.groupby('season').describe()[['count', 'profit']].T\n",
    "df.groupby('season').mean()[['count', 'profit']].T"
   ]
  },
  {
   "cell_type": "markdown",
   "id": "d8b92847",
   "metadata": {},
   "source": [
    "**Note:** We found that max count of bikes rented in Fall, and the Fall profit of season also in Fall, So the job owner should focus on Fall. "
   ]
  },
  {
   "cell_type": "markdown",
   "id": "dd941e33",
   "metadata": {},
   "source": [
    "#### Which weather condition that has more registeration & profit."
   ]
  },
  {
   "cell_type": "code",
   "execution_count": 15,
   "id": "a6a89e35",
   "metadata": {},
   "outputs": [
    {
     "data": {
      "text/html": [
       "<div>\n",
       "<style scoped>\n",
       "    .dataframe tbody tr th:only-of-type {\n",
       "        vertical-align: middle;\n",
       "    }\n",
       "\n",
       "    .dataframe tbody tr th {\n",
       "        vertical-align: top;\n",
       "    }\n",
       "\n",
       "    .dataframe thead th {\n",
       "        text-align: right;\n",
       "    }\n",
       "</style>\n",
       "<table border=\"1\" class=\"dataframe\">\n",
       "  <thead>\n",
       "    <tr style=\"text-align: right;\">\n",
       "      <th></th>\n",
       "      <th>weather</th>\n",
       "      <th>Clear</th>\n",
       "      <th>Mist</th>\n",
       "      <th>Rain</th>\n",
       "      <th>Snow</th>\n",
       "    </tr>\n",
       "  </thead>\n",
       "  <tbody>\n",
       "    <tr>\n",
       "      <th rowspan=\"8\" valign=\"top\">count</th>\n",
       "      <th>count</th>\n",
       "      <td>7192.000000</td>\n",
       "      <td>2834.000000</td>\n",
       "      <td>859.000000</td>\n",
       "      <td>1.000000</td>\n",
       "    </tr>\n",
       "    <tr>\n",
       "      <th>mean</th>\n",
       "      <td>205.236791</td>\n",
       "      <td>178.955540</td>\n",
       "      <td>118.846333</td>\n",
       "      <td>164.000000</td>\n",
       "    </tr>\n",
       "    <tr>\n",
       "      <th>std</th>\n",
       "      <td>187.959566</td>\n",
       "      <td>168.366413</td>\n",
       "      <td>138.581297</td>\n",
       "      <td>NaN</td>\n",
       "    </tr>\n",
       "    <tr>\n",
       "      <th>min</th>\n",
       "      <td>1.000000</td>\n",
       "      <td>1.000000</td>\n",
       "      <td>1.000000</td>\n",
       "      <td>164.000000</td>\n",
       "    </tr>\n",
       "    <tr>\n",
       "      <th>25%</th>\n",
       "      <td>48.000000</td>\n",
       "      <td>41.000000</td>\n",
       "      <td>23.000000</td>\n",
       "      <td>164.000000</td>\n",
       "    </tr>\n",
       "    <tr>\n",
       "      <th>50%</th>\n",
       "      <td>161.000000</td>\n",
       "      <td>134.000000</td>\n",
       "      <td>71.000000</td>\n",
       "      <td>164.000000</td>\n",
       "    </tr>\n",
       "    <tr>\n",
       "      <th>75%</th>\n",
       "      <td>305.000000</td>\n",
       "      <td>264.000000</td>\n",
       "      <td>161.000000</td>\n",
       "      <td>164.000000</td>\n",
       "    </tr>\n",
       "    <tr>\n",
       "      <th>max</th>\n",
       "      <td>977.000000</td>\n",
       "      <td>890.000000</td>\n",
       "      <td>891.000000</td>\n",
       "      <td>164.000000</td>\n",
       "    </tr>\n",
       "    <tr>\n",
       "      <th rowspan=\"8\" valign=\"top\">profit</th>\n",
       "      <th>count</th>\n",
       "      <td>7192.000000</td>\n",
       "      <td>2834.000000</td>\n",
       "      <td>859.000000</td>\n",
       "      <td>1.000000</td>\n",
       "    </tr>\n",
       "    <tr>\n",
       "      <th>mean</th>\n",
       "      <td>1402.328892</td>\n",
       "      <td>1166.470052</td>\n",
       "      <td>735.874634</td>\n",
       "      <td>782.428767</td>\n",
       "    </tr>\n",
       "    <tr>\n",
       "      <th>std</th>\n",
       "      <td>1381.640444</td>\n",
       "      <td>1159.674508</td>\n",
       "      <td>925.977295</td>\n",
       "      <td>NaN</td>\n",
       "    </tr>\n",
       "    <tr>\n",
       "      <th>min</th>\n",
       "      <td>4.128767</td>\n",
       "      <td>4.128767</td>\n",
       "      <td>4.128767</td>\n",
       "      <td>782.428767</td>\n",
       "    </tr>\n",
       "    <tr>\n",
       "      <th>25%</th>\n",
       "      <td>287.928767</td>\n",
       "      <td>244.928767</td>\n",
       "      <td>124.528767</td>\n",
       "      <td>782.428767</td>\n",
       "    </tr>\n",
       "    <tr>\n",
       "      <th>50%</th>\n",
       "      <td>1014.628767</td>\n",
       "      <td>825.428767</td>\n",
       "      <td>399.728767</td>\n",
       "      <td>782.428767</td>\n",
       "    </tr>\n",
       "    <tr>\n",
       "      <th>75%</th>\n",
       "      <td>2055.228767</td>\n",
       "      <td>1745.628767</td>\n",
       "      <td>956.578767</td>\n",
       "      <td>782.428767</td>\n",
       "    </tr>\n",
       "    <tr>\n",
       "      <th>max</th>\n",
       "      <td>7864.528767</td>\n",
       "      <td>7881.728767</td>\n",
       "      <td>5542.528767</td>\n",
       "      <td>782.428767</td>\n",
       "    </tr>\n",
       "  </tbody>\n",
       "</table>\n",
       "</div>"
      ],
      "text/plain": [
       "weather             Clear         Mist         Rain        Snow\n",
       "count  count  7192.000000  2834.000000   859.000000    1.000000\n",
       "       mean    205.236791   178.955540   118.846333  164.000000\n",
       "       std     187.959566   168.366413   138.581297         NaN\n",
       "       min       1.000000     1.000000     1.000000  164.000000\n",
       "       25%      48.000000    41.000000    23.000000  164.000000\n",
       "       50%     161.000000   134.000000    71.000000  164.000000\n",
       "       75%     305.000000   264.000000   161.000000  164.000000\n",
       "       max     977.000000   890.000000   891.000000  164.000000\n",
       "profit count  7192.000000  2834.000000   859.000000    1.000000\n",
       "       mean   1402.328892  1166.470052   735.874634  782.428767\n",
       "       std    1381.640444  1159.674508   925.977295         NaN\n",
       "       min       4.128767     4.128767     4.128767  782.428767\n",
       "       25%     287.928767   244.928767   124.528767  782.428767\n",
       "       50%    1014.628767   825.428767   399.728767  782.428767\n",
       "       75%    2055.228767  1745.628767   956.578767  782.428767\n",
       "       max    7864.528767  7881.728767  5542.528767  782.428767"
      ]
     },
     "execution_count": 15,
     "metadata": {},
     "output_type": "execute_result"
    }
   ],
   "source": [
    "df.groupby('weather').describe()[['count', 'profit']].T"
   ]
  },
  {
   "cell_type": "markdown",
   "id": "7f027a97",
   "metadata": {},
   "source": [
    "**Note:** From above analysis we found that when the weather is clear the most profit and most rented bikes."
   ]
  },
  {
   "cell_type": "markdown",
   "id": "29f5f4c7",
   "metadata": {},
   "source": [
    "#### Correlation between profit & rental bikes count with all features."
   ]
  },
  {
   "cell_type": "code",
   "execution_count": 16,
   "id": "382e2ae3",
   "metadata": {},
   "outputs": [
    {
     "data": {
      "text/html": [
       "<div>\n",
       "<style scoped>\n",
       "    .dataframe tbody tr th:only-of-type {\n",
       "        vertical-align: middle;\n",
       "    }\n",
       "\n",
       "    .dataframe tbody tr th {\n",
       "        vertical-align: top;\n",
       "    }\n",
       "\n",
       "    .dataframe thead th {\n",
       "        text-align: right;\n",
       "    }\n",
       "</style>\n",
       "<table border=\"1\" class=\"dataframe\">\n",
       "  <thead>\n",
       "    <tr style=\"text-align: right;\">\n",
       "      <th></th>\n",
       "      <th>count</th>\n",
       "      <th>profit</th>\n",
       "    </tr>\n",
       "  </thead>\n",
       "  <tbody>\n",
       "    <tr>\n",
       "      <th>holiday</th>\n",
       "      <td>-0.005393</td>\n",
       "      <td>0.018346</td>\n",
       "    </tr>\n",
       "    <tr>\n",
       "      <th>workingday</th>\n",
       "      <td>0.011594</td>\n",
       "      <td>-0.150138</td>\n",
       "    </tr>\n",
       "    <tr>\n",
       "      <th>temp</th>\n",
       "      <td>0.394454</td>\n",
       "      <td>0.464454</td>\n",
       "    </tr>\n",
       "    <tr>\n",
       "      <th>humidity</th>\n",
       "      <td>-0.317371</td>\n",
       "      <td>-0.360095</td>\n",
       "    </tr>\n",
       "    <tr>\n",
       "      <th>windspeed</th>\n",
       "      <td>0.101369</td>\n",
       "      <td>0.105697</td>\n",
       "    </tr>\n",
       "    <tr>\n",
       "      <th>casual</th>\n",
       "      <td>0.690414</td>\n",
       "      <td>0.902713</td>\n",
       "    </tr>\n",
       "    <tr>\n",
       "      <th>registered</th>\n",
       "      <td>0.970948</td>\n",
       "      <td>0.822156</td>\n",
       "    </tr>\n",
       "    <tr>\n",
       "      <th>count</th>\n",
       "      <td>1.000000</td>\n",
       "      <td>0.934490</td>\n",
       "    </tr>\n",
       "    <tr>\n",
       "      <th>profit</th>\n",
       "      <td>0.934490</td>\n",
       "      <td>1.000000</td>\n",
       "    </tr>\n",
       "    <tr>\n",
       "      <th>year</th>\n",
       "      <td>0.260403</td>\n",
       "      <td>0.226345</td>\n",
       "    </tr>\n",
       "    <tr>\n",
       "      <th>month</th>\n",
       "      <td>0.166862</td>\n",
       "      <td>0.144868</td>\n",
       "    </tr>\n",
       "    <tr>\n",
       "      <th>hour</th>\n",
       "      <td>0.400601</td>\n",
       "      <td>0.386889</td>\n",
       "    </tr>\n",
       "  </tbody>\n",
       "</table>\n",
       "</div>"
      ],
      "text/plain": [
       "               count    profit\n",
       "holiday    -0.005393  0.018346\n",
       "workingday  0.011594 -0.150138\n",
       "temp        0.394454  0.464454\n",
       "humidity   -0.317371 -0.360095\n",
       "windspeed   0.101369  0.105697\n",
       "casual      0.690414  0.902713\n",
       "registered  0.970948  0.822156\n",
       "count       1.000000  0.934490\n",
       "profit      0.934490  1.000000\n",
       "year        0.260403  0.226345\n",
       "month       0.166862  0.144868\n",
       "hour        0.400601  0.386889"
      ]
     },
     "execution_count": 16,
     "metadata": {},
     "output_type": "execute_result"
    }
   ],
   "source": [
    "df.corr()[['count', 'profit']]"
   ]
  },
  {
   "cell_type": "code",
   "execution_count": 17,
   "id": "3d3a6f93",
   "metadata": {},
   "outputs": [
    {
     "data": {
      "text/plain": [
       "<AxesSubplot:>"
      ]
     },
     "execution_count": 17,
     "metadata": {},
     "output_type": "execute_result"
    },
    {
     "data": {
      "image/png": "[encoded data removed]",
      "text/plain": [
       "<Figure size 504x504 with 2 Axes>"
      ]
     },
     "metadata": {},
     "output_type": "display_data"
    }
   ],
   "source": [
    "sns.heatmap(df.corr()[['count', 'profit']], annot=True)"
   ]
  },
  {
   "cell_type": "markdown",
   "id": "eb2ed195",
   "metadata": {},
   "source": [
    "**Note:** \n",
    "  - When temp increase the profit increase as well.\n",
    "  - When humidity decrease the profit decrease as well.\n",
    "  - No. of casual is more effective on profit than registered, because the casual rent for hour is 20 USD but registered 5 USD."
   ]
  },
  {
   "cell_type": "markdown",
   "id": "09cd3844",
   "metadata": {},
   "source": [
    "#### Rentals & profit during rush hours (7-9 am & 15-17 pm)"
   ]
  },
  {
   "cell_type": "code",
   "execution_count": 18,
   "id": "38ab618e",
   "metadata": {},
   "outputs": [
    {
     "data": {
      "text/html": [
       "<div>\n",
       "<style scoped>\n",
       "    .dataframe tbody tr th:only-of-type {\n",
       "        vertical-align: middle;\n",
       "    }\n",
       "\n",
       "    .dataframe tbody tr th {\n",
       "        vertical-align: top;\n",
       "    }\n",
       "\n",
       "    .dataframe thead th {\n",
       "        text-align: right;\n",
       "    }\n",
       "</style>\n",
       "<table border=\"1\" class=\"dataframe\">\n",
       "  <thead>\n",
       "    <tr style=\"text-align: right;\">\n",
       "      <th></th>\n",
       "      <th>datetime</th>\n",
       "      <th>season</th>\n",
       "      <th>holiday</th>\n",
       "      <th>workingday</th>\n",
       "      <th>weather</th>\n",
       "      <th>temp</th>\n",
       "      <th>humidity</th>\n",
       "      <th>windspeed</th>\n",
       "      <th>casual</th>\n",
       "      <th>registered</th>\n",
       "      <th>count</th>\n",
       "      <th>profit</th>\n",
       "      <th>year</th>\n",
       "      <th>month_name</th>\n",
       "      <th>month</th>\n",
       "      <th>day_name</th>\n",
       "      <th>hour</th>\n",
       "      <th>is_rush_hour</th>\n",
       "    </tr>\n",
       "  </thead>\n",
       "  <tbody>\n",
       "    <tr>\n",
       "      <th>0</th>\n",
       "      <td>2011-01-01 00:00:00</td>\n",
       "      <td>Spring</td>\n",
       "      <td>0</td>\n",
       "      <td>0</td>\n",
       "      <td>Clear</td>\n",
       "      <td>9.84</td>\n",
       "      <td>81</td>\n",
       "      <td>0.0</td>\n",
       "      <td>3</td>\n",
       "      <td>13</td>\n",
       "      <td>16</td>\n",
       "      <td>107.328767</td>\n",
       "      <td>2011</td>\n",
       "      <td>January</td>\n",
       "      <td>1</td>\n",
       "      <td>Saturday</td>\n",
       "      <td>0</td>\n",
       "      <td>0</td>\n",
       "    </tr>\n",
       "    <tr>\n",
       "      <th>1</th>\n",
       "      <td>2011-01-01 01:00:00</td>\n",
       "      <td>Spring</td>\n",
       "      <td>0</td>\n",
       "      <td>0</td>\n",
       "      <td>Clear</td>\n",
       "      <td>9.02</td>\n",
       "      <td>80</td>\n",
       "      <td>0.0</td>\n",
       "      <td>8</td>\n",
       "      <td>32</td>\n",
       "      <td>40</td>\n",
       "      <td>275.028767</td>\n",
       "      <td>2011</td>\n",
       "      <td>January</td>\n",
       "      <td>1</td>\n",
       "      <td>Saturday</td>\n",
       "      <td>1</td>\n",
       "      <td>0</td>\n",
       "    </tr>\n",
       "    <tr>\n",
       "      <th>2</th>\n",
       "      <td>2011-01-01 02:00:00</td>\n",
       "      <td>Spring</td>\n",
       "      <td>0</td>\n",
       "      <td>0</td>\n",
       "      <td>Clear</td>\n",
       "      <td>9.02</td>\n",
       "      <td>80</td>\n",
       "      <td>0.0</td>\n",
       "      <td>5</td>\n",
       "      <td>27</td>\n",
       "      <td>32</td>\n",
       "      <td>201.928767</td>\n",
       "      <td>2011</td>\n",
       "      <td>January</td>\n",
       "      <td>1</td>\n",
       "      <td>Saturday</td>\n",
       "      <td>2</td>\n",
       "      <td>0</td>\n",
       "    </tr>\n",
       "    <tr>\n",
       "      <th>3</th>\n",
       "      <td>2011-01-01 03:00:00</td>\n",
       "      <td>Spring</td>\n",
       "      <td>0</td>\n",
       "      <td>0</td>\n",
       "      <td>Clear</td>\n",
       "      <td>9.84</td>\n",
       "      <td>75</td>\n",
       "      <td>0.0</td>\n",
       "      <td>3</td>\n",
       "      <td>10</td>\n",
       "      <td>13</td>\n",
       "      <td>94.428767</td>\n",
       "      <td>2011</td>\n",
       "      <td>January</td>\n",
       "      <td>1</td>\n",
       "      <td>Saturday</td>\n",
       "      <td>3</td>\n",
       "      <td>0</td>\n",
       "    </tr>\n",
       "    <tr>\n",
       "      <th>4</th>\n",
       "      <td>2011-01-01 04:00:00</td>\n",
       "      <td>Spring</td>\n",
       "      <td>0</td>\n",
       "      <td>0</td>\n",
       "      <td>Clear</td>\n",
       "      <td>9.84</td>\n",
       "      <td>75</td>\n",
       "      <td>0.0</td>\n",
       "      <td>0</td>\n",
       "      <td>1</td>\n",
       "      <td>1</td>\n",
       "      <td>4.128767</td>\n",
       "      <td>2011</td>\n",
       "      <td>January</td>\n",
       "      <td>1</td>\n",
       "      <td>Saturday</td>\n",
       "      <td>4</td>\n",
       "      <td>0</td>\n",
       "    </tr>\n",
       "  </tbody>\n",
       "</table>\n",
       "</div>"
      ],
      "text/plain": [
       "             datetime  season  holiday  workingday weather  temp  humidity  \\\n",
       "0 2011-01-01 00:00:00  Spring        0           0   Clear  9.84        81   \n",
       "1 2011-01-01 01:00:00  Spring        0           0   Clear  9.02        80   \n",
       "2 2011-01-01 02:00:00  Spring        0           0   Clear  9.02        80   \n",
       "3 2011-01-01 03:00:00  Spring        0           0   Clear  9.84        75   \n",
       "4 2011-01-01 04:00:00  Spring        0           0   Clear  9.84        75   \n",
       "\n",
       "   windspeed  casual  registered  count      profit  year month_name  month  \\\n",
       "0        0.0       3          13     16  107.328767  2011    January      1   \n",
       "1        0.0       8          32     40  275.028767  2011    January      1   \n",
       "2        0.0       5          27     32  201.928767  2011    January      1   \n",
       "3        0.0       3          10     13   94.428767  2011    January      1   \n",
       "4        0.0       0           1      1    4.128767  2011    January      1   \n",
       "\n",
       "   day_name  hour  is_rush_hour  \n",
       "0  Saturday     0             0  \n",
       "1  Saturday     1             0  \n",
       "2  Saturday     2             0  \n",
       "3  Saturday     3             0  \n",
       "4  Saturday     4             0  "
      ]
     },
     "execution_count": 18,
     "metadata": {},
     "output_type": "execute_result"
    }
   ],
   "source": [
    "def calc_rush_hour(hour):\n",
    "    return 1 if hour in [7,8,9,15,16,17] else 0\n",
    "df['is_rush_hour'] = df['hour'].apply(calc_rush_hour)\n",
    "df.head()"
   ]
  },
  {
   "cell_type": "code",
   "execution_count": 19,
   "id": "8c77e692",
   "metadata": {},
   "outputs": [
    {
     "data": {
      "text/html": [
       "<div>\n",
       "<style scoped>\n",
       "    .dataframe tbody tr th:only-of-type {\n",
       "        vertical-align: middle;\n",
       "    }\n",
       "\n",
       "    .dataframe tbody tr th {\n",
       "        vertical-align: top;\n",
       "    }\n",
       "\n",
       "    .dataframe thead th {\n",
       "        text-align: right;\n",
       "    }\n",
       "</style>\n",
       "<table border=\"1\" class=\"dataframe\">\n",
       "  <thead>\n",
       "    <tr style=\"text-align: right;\">\n",
       "      <th></th>\n",
       "      <th>is_rush_hour</th>\n",
       "      <th>0</th>\n",
       "      <th>1</th>\n",
       "    </tr>\n",
       "  </thead>\n",
       "  <tbody>\n",
       "    <tr>\n",
       "      <th rowspan=\"8\" valign=\"top\">count</th>\n",
       "      <th>count</th>\n",
       "      <td>8153.000000</td>\n",
       "      <td>2733.000000</td>\n",
       "    </tr>\n",
       "    <tr>\n",
       "      <th>mean</th>\n",
       "      <td>153.140562</td>\n",
       "      <td>306.227955</td>\n",
       "    </tr>\n",
       "    <tr>\n",
       "      <th>std</th>\n",
       "      <td>158.808647</td>\n",
       "      <td>194.740685</td>\n",
       "    </tr>\n",
       "    <tr>\n",
       "      <th>min</th>\n",
       "      <td>1.000000</td>\n",
       "      <td>1.000000</td>\n",
       "    </tr>\n",
       "    <tr>\n",
       "      <th>25%</th>\n",
       "      <td>26.000000</td>\n",
       "      <td>157.000000</td>\n",
       "    </tr>\n",
       "    <tr>\n",
       "      <th>50%</th>\n",
       "      <td>108.000000</td>\n",
       "      <td>276.000000</td>\n",
       "    </tr>\n",
       "    <tr>\n",
       "      <th>75%</th>\n",
       "      <td>225.000000</td>\n",
       "      <td>420.000000</td>\n",
       "    </tr>\n",
       "    <tr>\n",
       "      <th>max</th>\n",
       "      <td>977.000000</td>\n",
       "      <td>970.000000</td>\n",
       "    </tr>\n",
       "    <tr>\n",
       "      <th rowspan=\"8\" valign=\"top\">profit</th>\n",
       "      <th>count</th>\n",
       "      <td>8153.000000</td>\n",
       "      <td>2733.000000</td>\n",
       "    </tr>\n",
       "    <tr>\n",
       "      <th>mean</th>\n",
       "      <td>1069.674358</td>\n",
       "      <td>1940.420498</td>\n",
       "    </tr>\n",
       "    <tr>\n",
       "      <th>std</th>\n",
       "      <td>1217.987206</td>\n",
       "      <td>1356.260623</td>\n",
       "    </tr>\n",
       "    <tr>\n",
       "      <th>min</th>\n",
       "      <td>4.128767</td>\n",
       "      <td>4.128767</td>\n",
       "    </tr>\n",
       "    <tr>\n",
       "      <th>25%</th>\n",
       "      <td>158.928767</td>\n",
       "      <td>937.228767</td>\n",
       "    </tr>\n",
       "    <tr>\n",
       "      <th>50%</th>\n",
       "      <td>644.828767</td>\n",
       "      <td>1689.728767</td>\n",
       "    </tr>\n",
       "    <tr>\n",
       "      <th>75%</th>\n",
       "      <td>1547.828767</td>\n",
       "      <td>2622.828767</td>\n",
       "    </tr>\n",
       "    <tr>\n",
       "      <th>max</th>\n",
       "      <td>7864.528767</td>\n",
       "      <td>7881.728767</td>\n",
       "    </tr>\n",
       "  </tbody>\n",
       "</table>\n",
       "</div>"
      ],
      "text/plain": [
       "is_rush_hour            0            1\n",
       "count  count  8153.000000  2733.000000\n",
       "       mean    153.140562   306.227955\n",
       "       std     158.808647   194.740685\n",
       "       min       1.000000     1.000000\n",
       "       25%      26.000000   157.000000\n",
       "       50%     108.000000   276.000000\n",
       "       75%     225.000000   420.000000\n",
       "       max     977.000000   970.000000\n",
       "profit count  8153.000000  2733.000000\n",
       "       mean   1069.674358  1940.420498\n",
       "       std    1217.987206  1356.260623\n",
       "       min       4.128767     4.128767\n",
       "       25%     158.928767   937.228767\n",
       "       50%     644.828767  1689.728767\n",
       "       75%    1547.828767  2622.828767\n",
       "       max    7864.528767  7881.728767"
      ]
     },
     "execution_count": 19,
     "metadata": {},
     "output_type": "execute_result"
    }
   ],
   "source": [
    "df.groupby('is_rush_hour').describe()[['count', 'profit']].T"
   ]
  },
  {
   "cell_type": "markdown",
   "id": "aa21d597",
   "metadata": {},
   "source": [
    "**Note:** The rush hour is very important on my profit and rental counts."
   ]
  },
  {
   "cell_type": "markdown",
   "id": "af8e4447",
   "metadata": {},
   "source": [
    "#### Rentals & profit during workingday."
   ]
  },
  {
   "cell_type": "code",
   "execution_count": 20,
   "id": "9a0ac4fd",
   "metadata": {},
   "outputs": [
    {
     "data": {
      "text/html": [
       "<div>\n",
       "<style scoped>\n",
       "    .dataframe tbody tr th:only-of-type {\n",
       "        vertical-align: middle;\n",
       "    }\n",
       "\n",
       "    .dataframe tbody tr th {\n",
       "        vertical-align: top;\n",
       "    }\n",
       "\n",
       "    .dataframe thead th {\n",
       "        text-align: right;\n",
       "    }\n",
       "</style>\n",
       "<table border=\"1\" class=\"dataframe\">\n",
       "  <thead>\n",
       "    <tr style=\"text-align: right;\">\n",
       "      <th></th>\n",
       "      <th>workingday</th>\n",
       "      <th>0</th>\n",
       "      <th>1</th>\n",
       "    </tr>\n",
       "  </thead>\n",
       "  <tbody>\n",
       "    <tr>\n",
       "      <th rowspan=\"8\" valign=\"top\">count</th>\n",
       "      <th>count</th>\n",
       "      <td>3474.000000</td>\n",
       "      <td>7412.000000</td>\n",
       "    </tr>\n",
       "    <tr>\n",
       "      <th>mean</th>\n",
       "      <td>188.506621</td>\n",
       "      <td>193.011873</td>\n",
       "    </tr>\n",
       "    <tr>\n",
       "      <th>std</th>\n",
       "      <td>173.724015</td>\n",
       "      <td>184.513659</td>\n",
       "    </tr>\n",
       "    <tr>\n",
       "      <th>min</th>\n",
       "      <td>1.000000</td>\n",
       "      <td>1.000000</td>\n",
       "    </tr>\n",
       "    <tr>\n",
       "      <th>25%</th>\n",
       "      <td>44.000000</td>\n",
       "      <td>41.000000</td>\n",
       "    </tr>\n",
       "    <tr>\n",
       "      <th>50%</th>\n",
       "      <td>128.000000</td>\n",
       "      <td>151.000000</td>\n",
       "    </tr>\n",
       "    <tr>\n",
       "      <th>75%</th>\n",
       "      <td>304.000000</td>\n",
       "      <td>277.000000</td>\n",
       "    </tr>\n",
       "    <tr>\n",
       "      <th>max</th>\n",
       "      <td>783.000000</td>\n",
       "      <td>977.000000</td>\n",
       "    </tr>\n",
       "    <tr>\n",
       "      <th rowspan=\"8\" valign=\"top\">profit</th>\n",
       "      <th>count</th>\n",
       "      <td>3474.000000</td>\n",
       "      <td>7412.000000</td>\n",
       "    </tr>\n",
       "    <tr>\n",
       "      <th>mean</th>\n",
       "      <td>1575.484179</td>\n",
       "      <td>1153.668675</td>\n",
       "    </tr>\n",
       "    <tr>\n",
       "      <th>std</th>\n",
       "      <td>1657.985547</td>\n",
       "      <td>1083.659550</td>\n",
       "    </tr>\n",
       "    <tr>\n",
       "      <th>min</th>\n",
       "      <td>4.128767</td>\n",
       "      <td>4.128767</td>\n",
       "    </tr>\n",
       "    <tr>\n",
       "      <th>25%</th>\n",
       "      <td>283.628767</td>\n",
       "      <td>236.328767</td>\n",
       "    </tr>\n",
       "    <tr>\n",
       "      <th>50%</th>\n",
       "      <td>887.778767</td>\n",
       "      <td>889.928767</td>\n",
       "    </tr>\n",
       "    <tr>\n",
       "      <th>75%</th>\n",
       "      <td>2493.828767</td>\n",
       "      <td>1758.528767</td>\n",
       "    </tr>\n",
       "    <tr>\n",
       "      <th>max</th>\n",
       "      <td>7881.728767</td>\n",
       "      <td>6338.028767</td>\n",
       "    </tr>\n",
       "  </tbody>\n",
       "</table>\n",
       "</div>"
      ],
      "text/plain": [
       "workingday              0            1\n",
       "count  count  3474.000000  7412.000000\n",
       "       mean    188.506621   193.011873\n",
       "       std     173.724015   184.513659\n",
       "       min       1.000000     1.000000\n",
       "       25%      44.000000    41.000000\n",
       "       50%     128.000000   151.000000\n",
       "       75%     304.000000   277.000000\n",
       "       max     783.000000   977.000000\n",
       "profit count  3474.000000  7412.000000\n",
       "       mean   1575.484179  1153.668675\n",
       "       std    1657.985547  1083.659550\n",
       "       min       4.128767     4.128767\n",
       "       25%     283.628767   236.328767\n",
       "       50%     887.778767   889.928767\n",
       "       75%    2493.828767  1758.528767\n",
       "       max    7881.728767  6338.028767"
      ]
     },
     "execution_count": 20,
     "metadata": {},
     "output_type": "execute_result"
    }
   ],
   "source": [
    "df.groupby('workingday').describe()[['count', 'profit']].T"
   ]
  },
  {
   "cell_type": "markdown",
   "id": "14e0495f",
   "metadata": {},
   "source": [
    "**Note:** \n",
    "  - We will found that the rent bikes is much more in workingdays, but the profit is more in non workingdays.\n",
    "  - And that makes sense that the No. of causal people rent bikes in workingdays less than non workingdays."
   ]
  },
  {
   "cell_type": "markdown",
   "id": "0edfe534",
   "metadata": {},
   "source": [
    "#### Registered or Causal is more."
   ]
  },
  {
   "cell_type": "code",
   "execution_count": 21,
   "id": "4c547df0",
   "metadata": {},
   "outputs": [
    {
     "data": {
      "text/html": [
       "<div>\n",
       "<style scoped>\n",
       "    .dataframe tbody tr th:only-of-type {\n",
       "        vertical-align: middle;\n",
       "    }\n",
       "\n",
       "    .dataframe tbody tr th {\n",
       "        vertical-align: top;\n",
       "    }\n",
       "\n",
       "    .dataframe thead th {\n",
       "        text-align: right;\n",
       "    }\n",
       "</style>\n",
       "<table border=\"1\" class=\"dataframe\">\n",
       "  <thead>\n",
       "    <tr style=\"text-align: right;\">\n",
       "      <th></th>\n",
       "      <th>count</th>\n",
       "      <th>profit</th>\n",
       "    </tr>\n",
       "  </thead>\n",
       "  <tbody>\n",
       "    <tr>\n",
       "      <th>casual</th>\n",
       "      <td>0.690414</td>\n",
       "      <td>0.902713</td>\n",
       "    </tr>\n",
       "    <tr>\n",
       "      <th>registered</th>\n",
       "      <td>0.970948</td>\n",
       "      <td>0.822156</td>\n",
       "    </tr>\n",
       "  </tbody>\n",
       "</table>\n",
       "</div>"
      ],
      "text/plain": [
       "               count    profit\n",
       "casual      0.690414  0.902713\n",
       "registered  0.970948  0.822156"
      ]
     },
     "execution_count": 21,
     "metadata": {},
     "output_type": "execute_result"
    }
   ],
   "source": [
    "df.corr()[['count', 'profit']].loc[['casual', 'registered']]"
   ]
  },
  {
   "cell_type": "markdown",
   "id": "7fe2ba5e",
   "metadata": {},
   "source": [
    "**Notes:**\n",
    "  - We found that the casual people is more effective on my profit than registered people.\n",
    "  - That leads us to:\n",
    "    - We need to focus on increaseing No. of casual people to get more profit.\n",
    "    - And we could increase the money for registered so that count of registered people affect the profit more."
   ]
  },
  {
   "cell_type": "markdown",
   "id": "5de7ff41",
   "metadata": {},
   "source": [
    "#### Schools (9-12) & (2-6) profit."
   ]
  },
  {
   "cell_type": "code",
   "execution_count": 22,
   "id": "ac1c59c3",
   "metadata": {},
   "outputs": [
    {
     "data": {
      "text/html": [
       "<div>\n",
       "<style scoped>\n",
       "    .dataframe tbody tr th:only-of-type {\n",
       "        vertical-align: middle;\n",
       "    }\n",
       "\n",
       "    .dataframe tbody tr th {\n",
       "        vertical-align: top;\n",
       "    }\n",
       "\n",
       "    .dataframe thead th {\n",
       "        text-align: right;\n",
       "    }\n",
       "</style>\n",
       "<table border=\"1\" class=\"dataframe\">\n",
       "  <thead>\n",
       "    <tr style=\"text-align: right;\">\n",
       "      <th></th>\n",
       "      <th>datetime</th>\n",
       "      <th>season</th>\n",
       "      <th>holiday</th>\n",
       "      <th>workingday</th>\n",
       "      <th>weather</th>\n",
       "      <th>temp</th>\n",
       "      <th>humidity</th>\n",
       "      <th>windspeed</th>\n",
       "      <th>casual</th>\n",
       "      <th>registered</th>\n",
       "      <th>count</th>\n",
       "      <th>profit</th>\n",
       "      <th>year</th>\n",
       "      <th>month_name</th>\n",
       "      <th>month</th>\n",
       "      <th>day_name</th>\n",
       "      <th>hour</th>\n",
       "      <th>is_rush_hour</th>\n",
       "      <th>is_school</th>\n",
       "    </tr>\n",
       "  </thead>\n",
       "  <tbody>\n",
       "    <tr>\n",
       "      <th>0</th>\n",
       "      <td>2011-01-01 00:00:00</td>\n",
       "      <td>Spring</td>\n",
       "      <td>0</td>\n",
       "      <td>0</td>\n",
       "      <td>Clear</td>\n",
       "      <td>9.84</td>\n",
       "      <td>81</td>\n",
       "      <td>0.0000</td>\n",
       "      <td>3</td>\n",
       "      <td>13</td>\n",
       "      <td>16</td>\n",
       "      <td>107.328767</td>\n",
       "      <td>2011</td>\n",
       "      <td>January</td>\n",
       "      <td>1</td>\n",
       "      <td>Saturday</td>\n",
       "      <td>0</td>\n",
       "      <td>0</td>\n",
       "      <td>0</td>\n",
       "    </tr>\n",
       "    <tr>\n",
       "      <th>1</th>\n",
       "      <td>2011-01-01 01:00:00</td>\n",
       "      <td>Spring</td>\n",
       "      <td>0</td>\n",
       "      <td>0</td>\n",
       "      <td>Clear</td>\n",
       "      <td>9.02</td>\n",
       "      <td>80</td>\n",
       "      <td>0.0000</td>\n",
       "      <td>8</td>\n",
       "      <td>32</td>\n",
       "      <td>40</td>\n",
       "      <td>275.028767</td>\n",
       "      <td>2011</td>\n",
       "      <td>January</td>\n",
       "      <td>1</td>\n",
       "      <td>Saturday</td>\n",
       "      <td>1</td>\n",
       "      <td>0</td>\n",
       "      <td>0</td>\n",
       "    </tr>\n",
       "    <tr>\n",
       "      <th>2</th>\n",
       "      <td>2011-01-01 02:00:00</td>\n",
       "      <td>Spring</td>\n",
       "      <td>0</td>\n",
       "      <td>0</td>\n",
       "      <td>Clear</td>\n",
       "      <td>9.02</td>\n",
       "      <td>80</td>\n",
       "      <td>0.0000</td>\n",
       "      <td>5</td>\n",
       "      <td>27</td>\n",
       "      <td>32</td>\n",
       "      <td>201.928767</td>\n",
       "      <td>2011</td>\n",
       "      <td>January</td>\n",
       "      <td>1</td>\n",
       "      <td>Saturday</td>\n",
       "      <td>2</td>\n",
       "      <td>0</td>\n",
       "      <td>0</td>\n",
       "    </tr>\n",
       "    <tr>\n",
       "      <th>3</th>\n",
       "      <td>2011-01-01 03:00:00</td>\n",
       "      <td>Spring</td>\n",
       "      <td>0</td>\n",
       "      <td>0</td>\n",
       "      <td>Clear</td>\n",
       "      <td>9.84</td>\n",
       "      <td>75</td>\n",
       "      <td>0.0000</td>\n",
       "      <td>3</td>\n",
       "      <td>10</td>\n",
       "      <td>13</td>\n",
       "      <td>94.428767</td>\n",
       "      <td>2011</td>\n",
       "      <td>January</td>\n",
       "      <td>1</td>\n",
       "      <td>Saturday</td>\n",
       "      <td>3</td>\n",
       "      <td>0</td>\n",
       "      <td>0</td>\n",
       "    </tr>\n",
       "    <tr>\n",
       "      <th>4</th>\n",
       "      <td>2011-01-01 04:00:00</td>\n",
       "      <td>Spring</td>\n",
       "      <td>0</td>\n",
       "      <td>0</td>\n",
       "      <td>Clear</td>\n",
       "      <td>9.84</td>\n",
       "      <td>75</td>\n",
       "      <td>0.0000</td>\n",
       "      <td>0</td>\n",
       "      <td>1</td>\n",
       "      <td>1</td>\n",
       "      <td>4.128767</td>\n",
       "      <td>2011</td>\n",
       "      <td>January</td>\n",
       "      <td>1</td>\n",
       "      <td>Saturday</td>\n",
       "      <td>4</td>\n",
       "      <td>0</td>\n",
       "      <td>0</td>\n",
       "    </tr>\n",
       "    <tr>\n",
       "      <th>...</th>\n",
       "      <td>...</td>\n",
       "      <td>...</td>\n",
       "      <td>...</td>\n",
       "      <td>...</td>\n",
       "      <td>...</td>\n",
       "      <td>...</td>\n",
       "      <td>...</td>\n",
       "      <td>...</td>\n",
       "      <td>...</td>\n",
       "      <td>...</td>\n",
       "      <td>...</td>\n",
       "      <td>...</td>\n",
       "      <td>...</td>\n",
       "      <td>...</td>\n",
       "      <td>...</td>\n",
       "      <td>...</td>\n",
       "      <td>...</td>\n",
       "      <td>...</td>\n",
       "      <td>...</td>\n",
       "    </tr>\n",
       "    <tr>\n",
       "      <th>10881</th>\n",
       "      <td>2012-12-19 19:00:00</td>\n",
       "      <td>Winter</td>\n",
       "      <td>0</td>\n",
       "      <td>1</td>\n",
       "      <td>Clear</td>\n",
       "      <td>15.58</td>\n",
       "      <td>50</td>\n",
       "      <td>26.0027</td>\n",
       "      <td>7</td>\n",
       "      <td>329</td>\n",
       "      <td>336</td>\n",
       "      <td>1534.928767</td>\n",
       "      <td>2012</td>\n",
       "      <td>December</td>\n",
       "      <td>12</td>\n",
       "      <td>Wednesday</td>\n",
       "      <td>19</td>\n",
       "      <td>0</td>\n",
       "      <td>1</td>\n",
       "    </tr>\n",
       "    <tr>\n",
       "      <th>10882</th>\n",
       "      <td>2012-12-19 20:00:00</td>\n",
       "      <td>Winter</td>\n",
       "      <td>0</td>\n",
       "      <td>1</td>\n",
       "      <td>Clear</td>\n",
       "      <td>14.76</td>\n",
       "      <td>57</td>\n",
       "      <td>15.0013</td>\n",
       "      <td>10</td>\n",
       "      <td>231</td>\n",
       "      <td>241</td>\n",
       "      <td>1165.128767</td>\n",
       "      <td>2012</td>\n",
       "      <td>December</td>\n",
       "      <td>12</td>\n",
       "      <td>Wednesday</td>\n",
       "      <td>20</td>\n",
       "      <td>0</td>\n",
       "      <td>1</td>\n",
       "    </tr>\n",
       "    <tr>\n",
       "      <th>10883</th>\n",
       "      <td>2012-12-19 21:00:00</td>\n",
       "      <td>Winter</td>\n",
       "      <td>0</td>\n",
       "      <td>1</td>\n",
       "      <td>Clear</td>\n",
       "      <td>13.94</td>\n",
       "      <td>61</td>\n",
       "      <td>15.0013</td>\n",
       "      <td>4</td>\n",
       "      <td>164</td>\n",
       "      <td>168</td>\n",
       "      <td>773.828767</td>\n",
       "      <td>2012</td>\n",
       "      <td>December</td>\n",
       "      <td>12</td>\n",
       "      <td>Wednesday</td>\n",
       "      <td>21</td>\n",
       "      <td>0</td>\n",
       "      <td>1</td>\n",
       "    </tr>\n",
       "    <tr>\n",
       "      <th>10884</th>\n",
       "      <td>2012-12-19 22:00:00</td>\n",
       "      <td>Winter</td>\n",
       "      <td>0</td>\n",
       "      <td>1</td>\n",
       "      <td>Clear</td>\n",
       "      <td>13.94</td>\n",
       "      <td>61</td>\n",
       "      <td>6.0032</td>\n",
       "      <td>12</td>\n",
       "      <td>117</td>\n",
       "      <td>129</td>\n",
       "      <td>709.328767</td>\n",
       "      <td>2012</td>\n",
       "      <td>December</td>\n",
       "      <td>12</td>\n",
       "      <td>Wednesday</td>\n",
       "      <td>22</td>\n",
       "      <td>0</td>\n",
       "      <td>1</td>\n",
       "    </tr>\n",
       "    <tr>\n",
       "      <th>10885</th>\n",
       "      <td>2012-12-19 23:00:00</td>\n",
       "      <td>Winter</td>\n",
       "      <td>0</td>\n",
       "      <td>1</td>\n",
       "      <td>Clear</td>\n",
       "      <td>13.12</td>\n",
       "      <td>66</td>\n",
       "      <td>8.9981</td>\n",
       "      <td>4</td>\n",
       "      <td>84</td>\n",
       "      <td>88</td>\n",
       "      <td>429.828767</td>\n",
       "      <td>2012</td>\n",
       "      <td>December</td>\n",
       "      <td>12</td>\n",
       "      <td>Wednesday</td>\n",
       "      <td>23</td>\n",
       "      <td>0</td>\n",
       "      <td>1</td>\n",
       "    </tr>\n",
       "  </tbody>\n",
       "</table>\n",
       "<p>10886 rows × 19 columns</p>\n",
       "</div>"
      ],
      "text/plain": [
       "                 datetime   season  holiday  workingday weather   temp  \\\n",
       "0     2011-01-01 00:00:00   Spring        0           0   Clear   9.84   \n",
       "1     2011-01-01 01:00:00   Spring        0           0   Clear   9.02   \n",
       "2     2011-01-01 02:00:00   Spring        0           0   Clear   9.02   \n",
       "3     2011-01-01 03:00:00   Spring        0           0   Clear   9.84   \n",
       "4     2011-01-01 04:00:00   Spring        0           0   Clear   9.84   \n",
       "...                   ...      ...      ...         ...     ...    ...   \n",
       "10881 2012-12-19 19:00:00  Winter         0           1   Clear  15.58   \n",
       "10882 2012-12-19 20:00:00  Winter         0           1   Clear  14.76   \n",
       "10883 2012-12-19 21:00:00  Winter         0           1   Clear  13.94   \n",
       "10884 2012-12-19 22:00:00  Winter         0           1   Clear  13.94   \n",
       "10885 2012-12-19 23:00:00  Winter         0           1   Clear  13.12   \n",
       "\n",
       "       humidity  windspeed  casual  registered  count       profit  year  \\\n",
       "0            81     0.0000       3          13     16   107.328767  2011   \n",
       "1            80     0.0000       8          32     40   275.028767  2011   \n",
       "2            80     0.0000       5          27     32   201.928767  2011   \n",
       "3            75     0.0000       3          10     13    94.428767  2011   \n",
       "4            75     0.0000       0           1      1     4.128767  2011   \n",
       "...         ...        ...     ...         ...    ...          ...   ...   \n",
       "10881        50    26.0027       7         329    336  1534.928767  2012   \n",
       "10882        57    15.0013      10         231    241  1165.128767  2012   \n",
       "10883        61    15.0013       4         164    168   773.828767  2012   \n",
       "10884        61     6.0032      12         117    129   709.328767  2012   \n",
       "10885        66     8.9981       4          84     88   429.828767  2012   \n",
       "\n",
       "      month_name  month   day_name  hour  is_rush_hour  is_school  \n",
       "0        January      1   Saturday     0             0          0  \n",
       "1        January      1   Saturday     1             0          0  \n",
       "2        January      1   Saturday     2             0          0  \n",
       "3        January      1   Saturday     3             0          0  \n",
       "4        January      1   Saturday     4             0          0  \n",
       "...          ...    ...        ...   ...           ...        ...  \n",
       "10881   December     12  Wednesday    19             0          1  \n",
       "10882   December     12  Wednesday    20             0          1  \n",
       "10883   December     12  Wednesday    21             0          1  \n",
       "10884   December     12  Wednesday    22             0          1  \n",
       "10885   December     12  Wednesday    23             0          1  \n",
       "\n",
       "[10886 rows x 19 columns]"
      ]
     },
     "execution_count": 22,
     "metadata": {},
     "output_type": "execute_result"
    }
   ],
   "source": [
    "def calc_school_month(month):\n",
    "    return 1 if month in ['September', 'October', 'November', 'December', 'February', 'March', 'April', 'May', 'June'] else 0\n",
    "df['is_school'] = df['month_name'].apply(calc_school_month)\n",
    "df"
   ]
  },
  {
   "cell_type": "code",
   "execution_count": 23,
   "id": "f085f89c",
   "metadata": {},
   "outputs": [
    {
     "data": {
      "text/html": [
       "<div>\n",
       "<style scoped>\n",
       "    .dataframe tbody tr th:only-of-type {\n",
       "        vertical-align: middle;\n",
       "    }\n",
       "\n",
       "    .dataframe tbody tr th {\n",
       "        vertical-align: top;\n",
       "    }\n",
       "\n",
       "    .dataframe thead th {\n",
       "        text-align: right;\n",
       "    }\n",
       "</style>\n",
       "<table border=\"1\" class=\"dataframe\">\n",
       "  <thead>\n",
       "    <tr style=\"text-align: right;\">\n",
       "      <th></th>\n",
       "      <th>is_school</th>\n",
       "      <th>0</th>\n",
       "      <th>1</th>\n",
       "    </tr>\n",
       "  </thead>\n",
       "  <tbody>\n",
       "    <tr>\n",
       "      <th rowspan=\"8\" valign=\"top\">count</th>\n",
       "      <th>count</th>\n",
       "      <td>2708.000000</td>\n",
       "      <td>8178.000000</td>\n",
       "    </tr>\n",
       "    <tr>\n",
       "      <th>mean</th>\n",
       "      <td>187.598597</td>\n",
       "      <td>192.890560</td>\n",
       "    </tr>\n",
       "    <tr>\n",
       "      <th>std</th>\n",
       "      <td>179.258377</td>\n",
       "      <td>181.756401</td>\n",
       "    </tr>\n",
       "    <tr>\n",
       "      <th>min</th>\n",
       "      <td>1.000000</td>\n",
       "      <td>1.000000</td>\n",
       "    </tr>\n",
       "    <tr>\n",
       "      <th>25%</th>\n",
       "      <td>40.000000</td>\n",
       "      <td>44.000000</td>\n",
       "    </tr>\n",
       "    <tr>\n",
       "      <th>50%</th>\n",
       "      <td>139.000000</td>\n",
       "      <td>147.000000</td>\n",
       "    </tr>\n",
       "    <tr>\n",
       "      <th>75%</th>\n",
       "      <td>282.000000</td>\n",
       "      <td>284.000000</td>\n",
       "    </tr>\n",
       "    <tr>\n",
       "      <th>max</th>\n",
       "      <td>897.000000</td>\n",
       "      <td>977.000000</td>\n",
       "    </tr>\n",
       "    <tr>\n",
       "      <th rowspan=\"8\" valign=\"top\">profit</th>\n",
       "      <th>count</th>\n",
       "      <td>2708.000000</td>\n",
       "      <td>8178.000000</td>\n",
       "    </tr>\n",
       "    <tr>\n",
       "      <th>mean</th>\n",
       "      <td>1302.252401</td>\n",
       "      <td>1283.654287</td>\n",
       "    </tr>\n",
       "    <tr>\n",
       "      <th>std</th>\n",
       "      <td>1290.751798</td>\n",
       "      <td>1315.937715</td>\n",
       "    </tr>\n",
       "    <tr>\n",
       "      <th>min</th>\n",
       "      <td>4.128767</td>\n",
       "      <td>4.128767</td>\n",
       "    </tr>\n",
       "    <tr>\n",
       "      <th>25%</th>\n",
       "      <td>240.628767</td>\n",
       "      <td>257.828767</td>\n",
       "    </tr>\n",
       "    <tr>\n",
       "      <th>50%</th>\n",
       "      <td>881.328767</td>\n",
       "      <td>894.228767</td>\n",
       "    </tr>\n",
       "    <tr>\n",
       "      <th>75%</th>\n",
       "      <td>2038.028767</td>\n",
       "      <td>1848.828767</td>\n",
       "    </tr>\n",
       "    <tr>\n",
       "      <th>max</th>\n",
       "      <td>6497.128767</td>\n",
       "      <td>7881.728767</td>\n",
       "    </tr>\n",
       "  </tbody>\n",
       "</table>\n",
       "</div>"
      ],
      "text/plain": [
       "is_school               0            1\n",
       "count  count  2708.000000  8178.000000\n",
       "       mean    187.598597   192.890560\n",
       "       std     179.258377   181.756401\n",
       "       min       1.000000     1.000000\n",
       "       25%      40.000000    44.000000\n",
       "       50%     139.000000   147.000000\n",
       "       75%     282.000000   284.000000\n",
       "       max     897.000000   977.000000\n",
       "profit count  2708.000000  8178.000000\n",
       "       mean   1302.252401  1283.654287\n",
       "       std    1290.751798  1315.937715\n",
       "       min       4.128767     4.128767\n",
       "       25%     240.628767   257.828767\n",
       "       50%     881.328767   894.228767\n",
       "       75%    2038.028767  1848.828767\n",
       "       max    6497.128767  7881.728767"
      ]
     },
     "execution_count": 23,
     "metadata": {},
     "output_type": "execute_result"
    }
   ],
   "source": [
    "df.groupby('is_school').describe()[['count', 'profit']].T"
   ]
  },
  {
   "cell_type": "markdown",
   "id": "7f5458ba",
   "metadata": {},
   "source": [
    "**Note:** \n",
    "  - The count of rented bikes in months not school is more than others, but the profit in school months is much more.\n",
    "  - But the range is not so big."
   ]
  },
  {
   "cell_type": "markdown",
   "id": "7f6236c5",
   "metadata": {},
   "source": [
    "#### Profit in year 2011 & saturdays & fall season\n",
    "    - Max profit\n",
    "    - Min profit\n",
    "    - Mean profit\n",
    "    - Sum profit"
   ]
  },
  {
   "cell_type": "code",
   "execution_count": 24,
   "id": "f7d5cb3b",
   "metadata": {},
   "outputs": [
    {
     "name": "stdout",
     "output_type": "stream",
     "text": [
      "Max:\n",
      " count      497.000000\n",
      "profit    5060.928767\n",
      "dtype: float64\n",
      "Min:\n",
      " count      5.000000\n",
      "profit    25.628767\n",
      "dtype: float64\n",
      "Mean:\n",
      " count      203.968750\n",
      "profit    1868.178767\n",
      "dtype: float64\n",
      "Sum:\n",
      " count      39162.000000\n",
      "profit    358690.323288\n",
      "dtype: float64\n"
     ]
    }
   ],
   "source": [
    "data = df[ (df['year'] == 2011) & (df['day_name'] == 'Saturday') & (df['season'] == 'Fall') ]\n",
    "print(\"Max:\\n\", data[['count', 'profit']].max())\n",
    "print(\"Min:\\n\", data[['count', 'profit']].min())\n",
    "print(\"Mean:\\n\", data[['count', 'profit']].mean())\n",
    "print(\"Sum:\\n\", data[['count', 'profit']].sum())"
   ]
  },
  {
   "cell_type": "markdown",
   "id": "125318c0",
   "metadata": {},
   "source": [
    "### Data Visualization\n",
    "**Types of visualization can be performed:**\n",
    "  1. Numerical Features (Univariate - Bivariate):\n",
    "     - temp\n",
    "     - humidity\n",
    "     - windspeed     \n",
    "     - casual        \n",
    "     - registered    \n",
    "     - count         \n",
    "     - profit\n",
    "  2. Categorical Features (Univariate - Bivariate): \n",
    "     - season \n",
    "     - holiday\n",
    "     - workingday   \n",
    "     - weather\n",
    "     - is_rush_hour\n",
    "     - is_school"
   ]
  },
  {
   "cell_type": "markdown",
   "id": "4f168496",
   "metadata": {},
   "source": [
    "#### Numerical Features (Univariate)"
   ]
  },
  {
   "cell_type": "code",
   "execution_count": 25,
   "id": "51ccbce8",
   "metadata": {},
   "outputs": [
    {
     "data": {
      "text/plain": [
       "<seaborn.axisgrid.FacetGrid at 0x1947fa631c0>"
      ]
     },
     "execution_count": 25,
     "metadata": {},
     "output_type": "execute_result"
    },
    {
     "data": {
      "image/png": "[encoded data removed]",
      "text/plain": [
       "<Figure size 720x720 with 1 Axes>"
      ]
     },
     "metadata": {},
     "output_type": "display_data"
    }
   ],
   "source": [
    "sns.displot(df['temp'], kde=False, height = 10, bins = 50)"
   ]
  },
  {
   "cell_type": "code",
   "execution_count": 26,
   "id": "4c65f88f",
   "metadata": {},
   "outputs": [
    {
     "data": {
      "text/plain": [
       "<seaborn.axisgrid.FacetGrid at 0x1947fa63be0>"
      ]
     },
     "execution_count": 26,
     "metadata": {},
     "output_type": "execute_result"
    },
    {
     "data": {
      "image/png": "[encoded data removed]",
      "text/plain": [
       "<Figure size 720x720 with 1 Axes>"
      ]
     },
     "metadata": {},
     "output_type": "display_data"
    }
   ],
   "source": [
    "sns.displot(df['humidity'], kde=False, height = 10, bins = 50)"
   ]
  },
  {
   "cell_type": "code",
   "execution_count": 27,
   "id": "8e38ef70",
   "metadata": {},
   "outputs": [
    {
     "data": {
      "text/plain": [
       "<seaborn.axisgrid.FacetGrid at 0x1947faa41c0>"
      ]
     },
     "execution_count": 27,
     "metadata": {},
     "output_type": "execute_result"
    },
    {
     "data": {
      "image/png": "[encoded data removed]",
      "text/plain": [
       "<Figure size 720x720 with 1 Axes>"
      ]
     },
     "metadata": {},
     "output_type": "display_data"
    }
   ],
   "source": [
    "sns.displot(df['windspeed'], kde=False, height = 10, bins = 50)"
   ]
  },
  {
   "cell_type": "code",
   "execution_count": 28,
   "id": "cf66fd3e",
   "metadata": {},
   "outputs": [
    {
     "data": {
      "text/plain": [
       "<seaborn.axisgrid.FacetGrid at 0x1947d5cd7b0>"
      ]
     },
     "execution_count": 28,
     "metadata": {},
     "output_type": "execute_result"
    },
    {
     "data": {
      "image/png": "[encoded data removed]",
      "text/plain": [
       "<Figure size 720x720 with 1 Axes>"
      ]
     },
     "metadata": {},
     "output_type": "display_data"
    }
   ],
   "source": [
    "sns.displot(df['casual'], kde=False, height = 10, bins = 50)"
   ]
  },
  {
   "cell_type": "code",
   "execution_count": 29,
   "id": "b59bb232",
   "metadata": {},
   "outputs": [
    {
     "data": {
      "text/plain": [
       "<seaborn.axisgrid.FacetGrid at 0x19400c0f0d0>"
      ]
     },
     "execution_count": 29,
     "metadata": {},
     "output_type": "execute_result"
    },
    {
     "data": {
      "image/png": "[encoded data removed]",
      "text/plain": [
       "<Figure size 720x720 with 1 Axes>"
      ]
     },
     "metadata": {},
     "output_type": "display_data"
    }
   ],
   "source": [
    "sns.displot(df['registered'], kde=False, height = 10, bins = 50)"
   ]
  },
  {
   "cell_type": "code",
   "execution_count": 30,
   "id": "783827f5",
   "metadata": {},
   "outputs": [
    {
     "data": {
      "text/plain": [
       "<seaborn.axisgrid.FacetGrid at 0x19400c8c490>"
      ]
     },
     "execution_count": 30,
     "metadata": {},
     "output_type": "execute_result"
    },
    {
     "data": {
      "image/png": "[encoded data removed]",
      "text/plain": [
       "<Figure size 720x720 with 1 Axes>"
      ]
     },
     "metadata": {},
     "output_type": "display_data"
    }
   ],
   "source": [
    "sns.displot(df['count'], kde=False, height = 10, bins = 50)"
   ]
  },
  {
   "cell_type": "code",
   "execution_count": 31,
   "id": "f456b4e3",
   "metadata": {},
   "outputs": [
    {
     "data": {
      "text/plain": [
       "<seaborn.axisgrid.FacetGrid at 0x1944c82bd30>"
      ]
     },
     "execution_count": 31,
     "metadata": {},
     "output_type": "execute_result"
    },
    {
     "data": {
      "image/png": "[encoded data removed]",
      "text/plain": [
       "<Figure size 720x720 with 1 Axes>"
      ]
     },
     "metadata": {},
     "output_type": "display_data"
    }
   ],
   "source": [
    "sns.displot(df['profit'], kde=False, height = 10, bins = 50)"
   ]
  },
  {
   "cell_type": "markdown",
   "id": "659979ac",
   "metadata": {},
   "source": [
    "#### Numerical Features (Bivariate)"
   ]
  },
  {
   "cell_type": "code",
   "execution_count": 32,
   "id": "b385f98d",
   "metadata": {},
   "outputs": [
    {
     "data": {
      "text/plain": [
       "<seaborn.axisgrid.JointGrid at 0x1940075e3e0>"
      ]
     },
     "execution_count": 32,
     "metadata": {},
     "output_type": "execute_result"
    },
    {
     "data": {
      "image/png": "[encoded data removed]",
      "text/plain": [
       "<Figure size 432x432 with 3 Axes>"
      ]
     },
     "metadata": {},
     "output_type": "display_data"
    }
   ],
   "source": [
    "sns.jointplot(x = 'temp', y = 'profit', data = df)"
   ]
  },
  {
   "cell_type": "code",
   "execution_count": 33,
   "id": "aa1308a0",
   "metadata": {},
   "outputs": [
    {
     "data": {
      "text/plain": [
       "<seaborn.axisgrid.JointGrid at 0x19402e163e0>"
      ]
     },
     "execution_count": 33,
     "metadata": {},
     "output_type": "execute_result"
    },
    {
     "data": {
      "image/png": "[encoded data removed]",
      "text/plain": [
       "<Figure size 432x432 with 3 Axes>"
      ]
     },
     "metadata": {},
     "output_type": "display_data"
    }
   ],
   "source": [
    "sns.jointplot(x = 'humidity', y = 'profit', data = df)"
   ]
  },
  {
   "cell_type": "code",
   "execution_count": 34,
   "id": "43f89ef7",
   "metadata": {},
   "outputs": [
    {
     "data": {
      "text/plain": [
       "<seaborn.axisgrid.JointGrid at 0x19402ee66b0>"
      ]
     },
     "execution_count": 34,
     "metadata": {},
     "output_type": "execute_result"
    },
    {
     "data": {
      "image/png": "[encoded data removed]",
      "text/plain": [
       "<Figure size 432x432 with 3 Axes>"
      ]
     },
     "metadata": {},
     "output_type": "display_data"
    }
   ],
   "source": [
    "sns.jointplot(x = 'windspeed', y = 'profit', data = df)"
   ]
  },
  {
   "cell_type": "code",
   "execution_count": 35,
   "id": "52eccb61",
   "metadata": {},
   "outputs": [
    {
     "data": {
      "text/plain": [
       "<seaborn.axisgrid.JointGrid at 0x194031ae9e0>"
      ]
     },
     "execution_count": 35,
     "metadata": {},
     "output_type": "execute_result"
    },
    {
     "data": {
      "image/png": "[encoded data removed]",
      "text/plain": [
       "<Figure size 432x432 with 3 Axes>"
      ]
     },
     "metadata": {},
     "output_type": "display_data"
    }
   ],
   "source": [
    "sns.jointplot(x = 'casual', y = 'profit', data = df)"
   ]
  },
  {
   "cell_type": "code",
   "execution_count": 36,
   "id": "bc6c4557",
   "metadata": {},
   "outputs": [
    {
     "data": {
      "text/plain": [
       "<seaborn.axisgrid.JointGrid at 0x194031adab0>"
      ]
     },
     "execution_count": 36,
     "metadata": {},
     "output_type": "execute_result"
    },
    {
     "data": {
      "image/png": "[encoded data removed]",
      "text/plain": [
       "<Figure size 432x432 with 3 Axes>"
      ]
     },
     "metadata": {},
     "output_type": "display_data"
    }
   ],
   "source": [
    "sns.jointplot(x = 'registered', y = 'profit', data = df)"
   ]
  },
  {
   "cell_type": "markdown",
   "id": "6d37a8fd",
   "metadata": {},
   "source": [
    "#### Categorical Features (Univariate)"
   ]
  },
  {
   "cell_type": "code",
   "execution_count": 37,
   "id": "f6be6d91",
   "metadata": {},
   "outputs": [
    {
     "data": {
      "text/plain": [
       "<AxesSubplot:xlabel='season', ylabel='count'>"
      ]
     },
     "execution_count": 37,
     "metadata": {},
     "output_type": "execute_result"
    },
    {
     "data": {
      "image/png": "[encoded data removed]",
      "text/plain": [
       "<Figure size 504x504 with 1 Axes>"
      ]
     },
     "metadata": {},
     "output_type": "display_data"
    }
   ],
   "source": [
    "sns.countplot(x = 'season', data = df, palette='mako')"
   ]
  },
  {
   "cell_type": "code",
   "execution_count": 38,
   "id": "b16e38d3",
   "metadata": {},
   "outputs": [
    {
     "data": {
      "text/plain": [
       "<AxesSubplot:xlabel='holiday', ylabel='count'>"
      ]
     },
     "execution_count": 38,
     "metadata": {},
     "output_type": "execute_result"
    },
    {
     "data": {
      "image/png": "[encoded data removed]",
      "text/plain": [
       "<Figure size 504x504 with 1 Axes>"
      ]
     },
     "metadata": {},
     "output_type": "display_data"
    }
   ],
   "source": [
    "sns.countplot(x = 'holiday', data = df, palette='mako')"
   ]
  },
  {
   "cell_type": "code",
   "execution_count": 39,
   "id": "efe2e7cf",
   "metadata": {},
   "outputs": [
    {
     "data": {
      "text/plain": [
       "<AxesSubplot:xlabel='workingday', ylabel='count'>"
      ]
     },
     "execution_count": 39,
     "metadata": {},
     "output_type": "execute_result"
    },
    {
     "data": {
      "image/png": "[encoded data removed]",
      "text/plain": [
       "<Figure size 504x504 with 1 Axes>"
      ]
     },
     "metadata": {},
     "output_type": "display_data"
    }
   ],
   "source": [
    "sns.countplot(x = 'workingday', data = df, palette='mako')"
   ]
  },
  {
   "cell_type": "code",
   "execution_count": 40,
   "id": "359a56ac",
   "metadata": {},
   "outputs": [
    {
     "data": {
      "text/plain": [
       "<AxesSubplot:xlabel='weather', ylabel='count'>"
      ]
     },
     "execution_count": 40,
     "metadata": {},
     "output_type": "execute_result"
    },
    {
     "data": {
      "image/png": "[encoded data removed]",
      "text/plain": [
       "<Figure size 504x504 with 1 Axes>"
      ]
     },
     "metadata": {},
     "output_type": "display_data"
    }
   ],
   "source": [
    "sns.countplot(x = 'weather', data = df, palette='mako')"
   ]
  },
  {
   "cell_type": "code",
   "execution_count": 41,
   "id": "184830a1",
   "metadata": {},
   "outputs": [
    {
     "data": {
      "text/plain": [
       "<AxesSubplot:xlabel='is_rush_hour', ylabel='count'>"
      ]
     },
     "execution_count": 41,
     "metadata": {},
     "output_type": "execute_result"
    },
    {
     "data": {
      "image/png": "[encoded data removed]",
      "text/plain": [
       "<Figure size 504x504 with 1 Axes>"
      ]
     },
     "metadata": {},
     "output_type": "display_data"
    }
   ],
   "source": [
    "sns.countplot(x = 'is_rush_hour', data = df, palette='mako')"
   ]
  },
  {
   "cell_type": "code",
   "execution_count": 42,
   "id": "c1f37036",
   "metadata": {},
   "outputs": [
    {
     "data": {
      "text/plain": [
       "<AxesSubplot:xlabel='is_school', ylabel='count'>"
      ]
     },
     "execution_count": 42,
     "metadata": {},
     "output_type": "execute_result"
    },
    {
     "data": {
      "image/png": "[encoded data removed]",
      "text/plain": [
       "<Figure size 504x504 with 1 Axes>"
      ]
     },
     "metadata": {},
     "output_type": "display_data"
    }
   ],
   "source": [
    "sns.countplot(x = 'is_school', data = df, palette='mako')"
   ]
  },
  {
   "cell_type": "markdown",
   "id": "8e54fcd4",
   "metadata": {},
   "source": [
    "#### Categorical Features (Bivariate)"
   ]
  },
  {
   "cell_type": "code",
   "execution_count": 43,
   "id": "87c53090",
   "metadata": {},
   "outputs": [
    {
     "data": {
      "text/plain": [
       "<AxesSubplot:xlabel='season', ylabel='profit'>"
      ]
     },
     "execution_count": 43,
     "metadata": {},
     "output_type": "execute_result"
    },
    {
     "data": {
      "image/png": "[encoded data removed]",
      "text/plain": [
       "<Figure size 504x504 with 1 Axes>"
      ]
     },
     "metadata": {},
     "output_type": "display_data"
    }
   ],
   "source": [
    "sns.boxplot(x = 'season', y = 'profit', data = df, palette='mako')"
   ]
  },
  {
   "cell_type": "code",
   "execution_count": 44,
   "id": "ff6b7def",
   "metadata": {},
   "outputs": [
    {
     "data": {
      "text/plain": [
       "<AxesSubplot:xlabel='holiday', ylabel='profit'>"
      ]
     },
     "execution_count": 44,
     "metadata": {},
     "output_type": "execute_result"
    },
    {
     "data": {
      "image/png": "[encoded data removed]",
      "text/plain": [
       "<Figure size 504x504 with 1 Axes>"
      ]
     },
     "metadata": {},
     "output_type": "display_data"
    }
   ],
   "source": [
    "sns.boxplot(x = 'holiday', y = 'profit', data = df, palette='mako')"
   ]
  },
  {
   "cell_type": "code",
   "execution_count": 45,
   "id": "5f6f241a",
   "metadata": {},
   "outputs": [
    {
     "data": {
      "text/plain": [
       "<AxesSubplot:xlabel='workingday', ylabel='profit'>"
      ]
     },
     "execution_count": 45,
     "metadata": {},
     "output_type": "execute_result"
    },
    {
     "data": {
      "image/png": "[encoded data removed]",
      "text/plain": [
       "<Figure size 504x504 with 1 Axes>"
      ]
     },
     "metadata": {},
     "output_type": "display_data"
    }
   ],
   "source": [
    "sns.boxplot(x = 'workingday', y = 'profit', data = df, palette='mako')"
   ]
  },
  {
   "cell_type": "code",
   "execution_count": 46,
   "id": "ca3ae107",
   "metadata": {},
   "outputs": [
    {
     "data": {
      "text/plain": [
       "<AxesSubplot:xlabel='weather', ylabel='profit'>"
      ]
     },
     "execution_count": 46,
     "metadata": {},
     "output_type": "execute_result"
    },
    {
     "data": {
      "image/png": "[encoded data removed]",
      "text/plain": [
       "<Figure size 504x504 with 1 Axes>"
      ]
     },
     "metadata": {},
     "output_type": "display_data"
    }
   ],
   "source": [
    "sns.boxplot(x = 'weather', y = 'profit', data = df, palette='mako')"
   ]
  },
  {
   "cell_type": "code",
   "execution_count": 47,
   "id": "d51958e9",
   "metadata": {},
   "outputs": [
    {
     "data": {
      "text/plain": [
       "<AxesSubplot:xlabel='is_rush_hour', ylabel='profit'>"
      ]
     },
     "execution_count": 47,
     "metadata": {},
     "output_type": "execute_result"
    },
    {
     "data": {
      "image/png": "[encoded data removed]",
      "text/plain": [
       "<Figure size 504x504 with 1 Axes>"
      ]
     },
     "metadata": {},
     "output_type": "display_data"
    }
   ],
   "source": [
    "sns.boxplot(x = 'is_rush_hour', y = 'profit', data = df, palette='mako')"
   ]
  },
  {
   "cell_type": "code",
   "execution_count": 48,
   "id": "69824258",
   "metadata": {},
   "outputs": [
    {
     "data": {
      "text/plain": [
       "<AxesSubplot:xlabel='is_school', ylabel='profit'>"
      ]
     },
     "execution_count": 48,
     "metadata": {},
     "output_type": "execute_result"
    },
    {
     "data": {
      "image/png": "[encoded data removed]",
      "text/plain": [
       "<Figure size 504x504 with 1 Axes>"
      ]
     },
     "metadata": {},
     "output_type": "display_data"
    }
   ],
   "source": [
    "sns.boxplot(x = 'is_school', y = 'profit', data = df, palette='mako')"
   ]
  },
  {
   "cell_type": "markdown",
   "id": "a3cf6bcc",
   "metadata": {},
   "source": [
    "### Data preprocessing\n",
    "- Data Cleaning \n",
    "- Working with missing values\n",
    "- Working with categorical data\n",
    "- Split data into train and test sets\n",
    "- Feature scaling"
   ]
  },
  {
   "cell_type": "markdown",
   "id": "3ba2c85f",
   "metadata": {},
   "source": [
    "### Data cleaning\n",
    "**Numerical Features:**\n",
    "- Make sure that numeric features is numeric by changing feature to numeric using to_numeric()\n",
    "- Use describe() to search for logic values or to make sure that values are true"
   ]
  },
  {
   "cell_type": "code",
   "execution_count": 49,
   "id": "c206032f",
   "metadata": {
    "scrolled": true
   },
   "outputs": [
    {
     "name": "stdout",
     "output_type": "stream",
     "text": [
      "<class 'pandas.core.frame.DataFrame'>\n",
      "RangeIndex: 10886 entries, 0 to 10885\n",
      "Data columns (total 19 columns):\n",
      " #   Column        Non-Null Count  Dtype         \n",
      "---  ------        --------------  -----         \n",
      " 0   datetime      10886 non-null  datetime64[ns]\n",
      " 1   season        10886 non-null  object        \n",
      " 2   holiday       10886 non-null  int64         \n",
      " 3   workingday    10886 non-null  int64         \n",
      " 4   weather       10886 non-null  object        \n",
      " 5   temp          10886 non-null  float64       \n",
      " 6   humidity      10886 non-null  int64         \n",
      " 7   windspeed     10886 non-null  float64       \n",
      " 8   casual        10886 non-null  int64         \n",
      " 9   registered    10886 non-null  int64         \n",
      " 10  count         10886 non-null  int64         \n",
      " 11  profit        10886 non-null  float64       \n",
      " 12  year          10886 non-null  int64         \n",
      " 13  month_name    10886 non-null  object        \n",
      " 14  month         10886 non-null  int64         \n",
      " 15  day_name      10886 non-null  object        \n",
      " 16  hour          10886 non-null  int64         \n",
      " 17  is_rush_hour  10886 non-null  int64         \n",
      " 18  is_school     10886 non-null  int64         \n",
      "dtypes: datetime64[ns](1), float64(3), int64(11), object(4)\n",
      "memory usage: 1.6+ MB\n"
     ]
    }
   ],
   "source": [
    "# First check numerical features is numeric or not\n",
    "df.info()"
   ]
  },
  {
   "cell_type": "code",
   "execution_count": 50,
   "id": "56be159e",
   "metadata": {},
   "outputs": [],
   "source": [
    "# If there is a problem use to_numeric() that non numeric features to numeric\n",
    "for i in ['temp', 'humidity', 'windspeed', 'casual', 'registered', 'count', 'profit']:\n",
    "    df[i] = pd.to_numeric(df[i], errors = 'coerce')"
   ]
  },
  {
   "cell_type": "code",
   "execution_count": 51,
   "id": "936012bc",
   "metadata": {},
   "outputs": [
    {
     "name": "stdout",
     "output_type": "stream",
     "text": [
      "<class 'pandas.core.frame.DataFrame'>\n",
      "RangeIndex: 10886 entries, 0 to 10885\n",
      "Data columns (total 19 columns):\n",
      " #   Column        Non-Null Count  Dtype         \n",
      "---  ------        --------------  -----         \n",
      " 0   datetime      10886 non-null  datetime64[ns]\n",
      " 1   season        10886 non-null  object        \n",
      " 2   holiday       10886 non-null  int64         \n",
      " 3   workingday    10886 non-null  int64         \n",
      " 4   weather       10886 non-null  object        \n",
      " 5   temp          10886 non-null  float64       \n",
      " 6   humidity      10886 non-null  int64         \n",
      " 7   windspeed     10886 non-null  float64       \n",
      " 8   casual        10886 non-null  int64         \n",
      " 9   registered    10886 non-null  int64         \n",
      " 10  count         10886 non-null  int64         \n",
      " 11  profit        10886 non-null  float64       \n",
      " 12  year          10886 non-null  int64         \n",
      " 13  month_name    10886 non-null  object        \n",
      " 14  month         10886 non-null  int64         \n",
      " 15  day_name      10886 non-null  object        \n",
      " 16  hour          10886 non-null  int64         \n",
      " 17  is_rush_hour  10886 non-null  int64         \n",
      " 18  is_school     10886 non-null  int64         \n",
      "dtypes: datetime64[ns](1), float64(3), int64(11), object(4)\n",
      "memory usage: 1.6+ MB\n"
     ]
    }
   ],
   "source": [
    "df.info()"
   ]
  },
  {
   "cell_type": "code",
   "execution_count": 52,
   "id": "60eada42",
   "metadata": {},
   "outputs": [
    {
     "data": {
      "text/html": [
       "<div>\n",
       "<style scoped>\n",
       "    .dataframe tbody tr th:only-of-type {\n",
       "        vertical-align: middle;\n",
       "    }\n",
       "\n",
       "    .dataframe tbody tr th {\n",
       "        vertical-align: top;\n",
       "    }\n",
       "\n",
       "    .dataframe thead th {\n",
       "        text-align: right;\n",
       "    }\n",
       "</style>\n",
       "<table border=\"1\" class=\"dataframe\">\n",
       "  <thead>\n",
       "    <tr style=\"text-align: right;\">\n",
       "      <th></th>\n",
       "      <th>holiday</th>\n",
       "      <th>workingday</th>\n",
       "      <th>temp</th>\n",
       "      <th>humidity</th>\n",
       "      <th>windspeed</th>\n",
       "      <th>casual</th>\n",
       "      <th>registered</th>\n",
       "      <th>count</th>\n",
       "      <th>profit</th>\n",
       "      <th>year</th>\n",
       "      <th>month</th>\n",
       "      <th>hour</th>\n",
       "      <th>is_rush_hour</th>\n",
       "      <th>is_school</th>\n",
       "    </tr>\n",
       "  </thead>\n",
       "  <tbody>\n",
       "    <tr>\n",
       "      <th>count</th>\n",
       "      <td>10886.000000</td>\n",
       "      <td>10886.000000</td>\n",
       "      <td>10886.00000</td>\n",
       "      <td>10886.000000</td>\n",
       "      <td>10886.000000</td>\n",
       "      <td>10886.000000</td>\n",
       "      <td>10886.000000</td>\n",
       "      <td>10886.000000</td>\n",
       "      <td>10886.000000</td>\n",
       "      <td>10886.000000</td>\n",
       "      <td>10886.000000</td>\n",
       "      <td>10886.000000</td>\n",
       "      <td>10886.000000</td>\n",
       "      <td>10886.000000</td>\n",
       "    </tr>\n",
       "    <tr>\n",
       "      <th>mean</th>\n",
       "      <td>0.028569</td>\n",
       "      <td>0.680875</td>\n",
       "      <td>20.23086</td>\n",
       "      <td>61.886460</td>\n",
       "      <td>12.799395</td>\n",
       "      <td>36.021955</td>\n",
       "      <td>155.552177</td>\n",
       "      <td>191.574132</td>\n",
       "      <td>1288.280751</td>\n",
       "      <td>2011.501929</td>\n",
       "      <td>6.521495</td>\n",
       "      <td>11.541613</td>\n",
       "      <td>0.251056</td>\n",
       "      <td>0.751240</td>\n",
       "    </tr>\n",
       "    <tr>\n",
       "      <th>std</th>\n",
       "      <td>0.166599</td>\n",
       "      <td>0.466159</td>\n",
       "      <td>7.79159</td>\n",
       "      <td>19.245033</td>\n",
       "      <td>8.164537</td>\n",
       "      <td>49.960477</td>\n",
       "      <td>151.039033</td>\n",
       "      <td>181.144454</td>\n",
       "      <td>1309.683400</td>\n",
       "      <td>0.500019</td>\n",
       "      <td>3.444373</td>\n",
       "      <td>6.915838</td>\n",
       "      <td>0.433641</td>\n",
       "      <td>0.432314</td>\n",
       "    </tr>\n",
       "    <tr>\n",
       "      <th>min</th>\n",
       "      <td>0.000000</td>\n",
       "      <td>0.000000</td>\n",
       "      <td>0.82000</td>\n",
       "      <td>0.000000</td>\n",
       "      <td>0.000000</td>\n",
       "      <td>0.000000</td>\n",
       "      <td>0.000000</td>\n",
       "      <td>1.000000</td>\n",
       "      <td>4.128767</td>\n",
       "      <td>2011.000000</td>\n",
       "      <td>1.000000</td>\n",
       "      <td>0.000000</td>\n",
       "      <td>0.000000</td>\n",
       "      <td>0.000000</td>\n",
       "    </tr>\n",
       "    <tr>\n",
       "      <th>25%</th>\n",
       "      <td>0.000000</td>\n",
       "      <td>0.000000</td>\n",
       "      <td>13.94000</td>\n",
       "      <td>47.000000</td>\n",
       "      <td>7.001500</td>\n",
       "      <td>4.000000</td>\n",
       "      <td>36.000000</td>\n",
       "      <td>42.000000</td>\n",
       "      <td>253.528767</td>\n",
       "      <td>2011.000000</td>\n",
       "      <td>4.000000</td>\n",
       "      <td>6.000000</td>\n",
       "      <td>0.000000</td>\n",
       "      <td>1.000000</td>\n",
       "    </tr>\n",
       "    <tr>\n",
       "      <th>50%</th>\n",
       "      <td>0.000000</td>\n",
       "      <td>1.000000</td>\n",
       "      <td>20.50000</td>\n",
       "      <td>62.000000</td>\n",
       "      <td>12.998000</td>\n",
       "      <td>17.000000</td>\n",
       "      <td>118.000000</td>\n",
       "      <td>145.000000</td>\n",
       "      <td>889.928767</td>\n",
       "      <td>2012.000000</td>\n",
       "      <td>7.000000</td>\n",
       "      <td>12.000000</td>\n",
       "      <td>0.000000</td>\n",
       "      <td>1.000000</td>\n",
       "    </tr>\n",
       "    <tr>\n",
       "      <th>75%</th>\n",
       "      <td>0.000000</td>\n",
       "      <td>1.000000</td>\n",
       "      <td>26.24000</td>\n",
       "      <td>77.000000</td>\n",
       "      <td>16.997900</td>\n",
       "      <td>49.000000</td>\n",
       "      <td>222.000000</td>\n",
       "      <td>284.000000</td>\n",
       "      <td>1891.828767</td>\n",
       "      <td>2012.000000</td>\n",
       "      <td>10.000000</td>\n",
       "      <td>18.000000</td>\n",
       "      <td>1.000000</td>\n",
       "      <td>1.000000</td>\n",
       "    </tr>\n",
       "    <tr>\n",
       "      <th>max</th>\n",
       "      <td>1.000000</td>\n",
       "      <td>1.000000</td>\n",
       "      <td>41.00000</td>\n",
       "      <td>100.000000</td>\n",
       "      <td>56.996900</td>\n",
       "      <td>367.000000</td>\n",
       "      <td>886.000000</td>\n",
       "      <td>977.000000</td>\n",
       "      <td>7881.728767</td>\n",
       "      <td>2012.000000</td>\n",
       "      <td>12.000000</td>\n",
       "      <td>23.000000</td>\n",
       "      <td>1.000000</td>\n",
       "      <td>1.000000</td>\n",
       "    </tr>\n",
       "  </tbody>\n",
       "</table>\n",
       "</div>"
      ],
      "text/plain": [
       "            holiday    workingday         temp      humidity     windspeed  \\\n",
       "count  10886.000000  10886.000000  10886.00000  10886.000000  10886.000000   \n",
       "mean       0.028569      0.680875     20.23086     61.886460     12.799395   \n",
       "std        0.166599      0.466159      7.79159     19.245033      8.164537   \n",
       "min        0.000000      0.000000      0.82000      0.000000      0.000000   \n",
       "25%        0.000000      0.000000     13.94000     47.000000      7.001500   \n",
       "50%        0.000000      1.000000     20.50000     62.000000     12.998000   \n",
       "75%        0.000000      1.000000     26.24000     77.000000     16.997900   \n",
       "max        1.000000      1.000000     41.00000    100.000000     56.996900   \n",
       "\n",
       "             casual    registered         count        profit          year  \\\n",
       "count  10886.000000  10886.000000  10886.000000  10886.000000  10886.000000   \n",
       "mean      36.021955    155.552177    191.574132   1288.280751   2011.501929   \n",
       "std       49.960477    151.039033    181.144454   1309.683400      0.500019   \n",
       "min        0.000000      0.000000      1.000000      4.128767   2011.000000   \n",
       "25%        4.000000     36.000000     42.000000    253.528767   2011.000000   \n",
       "50%       17.000000    118.000000    145.000000    889.928767   2012.000000   \n",
       "75%       49.000000    222.000000    284.000000   1891.828767   2012.000000   \n",
       "max      367.000000    886.000000    977.000000   7881.728767   2012.000000   \n",
       "\n",
       "              month          hour  is_rush_hour     is_school  \n",
       "count  10886.000000  10886.000000  10886.000000  10886.000000  \n",
       "mean       6.521495     11.541613      0.251056      0.751240  \n",
       "std        3.444373      6.915838      0.433641      0.432314  \n",
       "min        1.000000      0.000000      0.000000      0.000000  \n",
       "25%        4.000000      6.000000      0.000000      1.000000  \n",
       "50%        7.000000     12.000000      0.000000      1.000000  \n",
       "75%       10.000000     18.000000      1.000000      1.000000  \n",
       "max       12.000000     23.000000      1.000000      1.000000  "
      ]
     },
     "execution_count": 52,
     "metadata": {},
     "output_type": "execute_result"
    }
   ],
   "source": [
    "# Describe data to search for logic error, that can accur in range of values maybe\n",
    "df.describe()"
   ]
  },
  {
   "cell_type": "markdown",
   "id": "71cff33e",
   "metadata": {},
   "source": [
    "**Categorical Features:**\n",
    "- Use unique to check the categorical feature values"
   ]
  },
  {
   "cell_type": "code",
   "execution_count": 53,
   "id": "9fa1ba41",
   "metadata": {},
   "outputs": [
    {
     "data": {
      "text/plain": [
       "Index(['datetime', 'season', 'holiday', 'workingday', 'weather', 'temp',\n",
       "       'humidity', 'windspeed', 'casual', 'registered', 'count', 'profit',\n",
       "       'year', 'month_name', 'month', 'day_name', 'hour', 'is_rush_hour',\n",
       "       'is_school'],\n",
       "      dtype='object')"
      ]
     },
     "execution_count": 53,
     "metadata": {},
     "output_type": "execute_result"
    }
   ],
   "source": [
    "df.columns"
   ]
  },
  {
   "cell_type": "code",
   "execution_count": 54,
   "id": "dcb543c7",
   "metadata": {},
   "outputs": [
    {
     "name": "stdout",
     "output_type": "stream",
     "text": [
      "----------season----------\n",
      "['Spring' 'Summer' 'Fall' 'Winter ']\n",
      "==========================\n",
      "----------holiday----------\n",
      "[0 1]\n",
      "==========================\n",
      "----------workingday----------\n",
      "[0 1]\n",
      "==========================\n",
      "----------weather----------\n",
      "['Clear' 'Mist' 'Rain' 'Snow']\n",
      "==========================\n",
      "----------year----------\n",
      "[2011 2012]\n",
      "==========================\n",
      "----------month_name----------\n",
      "['January' 'February' 'March' 'April' 'May' 'June' 'July' 'August'\n",
      " 'September' 'October' 'November' 'December']\n",
      "==========================\n",
      "----------day_name----------\n",
      "['Saturday' 'Sunday' 'Monday' 'Tuesday' 'Wednesday' 'Thursday' 'Friday']\n",
      "==========================\n",
      "----------hour----------\n",
      "[ 0  1  2  3  4  5  6  7  8  9 10 11 12 13 14 15 16 17 18 19 20 21 22 23]\n",
      "==========================\n",
      "----------is_rush_hour----------\n",
      "[0 1]\n",
      "==========================\n",
      "----------is_school----------\n",
      "[0 1]\n",
      "==========================\n"
     ]
    }
   ],
   "source": [
    "for col in ['season', 'holiday', 'workingday', 'weather', 'year', 'month_name', 'day_name', 'hour', 'is_rush_hour', 'is_school']:\n",
    "    print(f'----------{col}----------')\n",
    "    print(df[col].unique())\n",
    "    print('==========================')"
   ]
  },
  {
   "cell_type": "markdown",
   "id": "42d97261",
   "metadata": {},
   "source": [
    "#### Check missing data"
   ]
  },
  {
   "cell_type": "code",
   "execution_count": 55,
   "id": "2db6482f",
   "metadata": {},
   "outputs": [
    {
     "data": {
      "text/plain": [
       "datetime        0\n",
       "season          0\n",
       "holiday         0\n",
       "workingday      0\n",
       "weather         0\n",
       "temp            0\n",
       "humidity        0\n",
       "windspeed       0\n",
       "casual          0\n",
       "registered      0\n",
       "count           0\n",
       "profit          0\n",
       "year            0\n",
       "month_name      0\n",
       "month           0\n",
       "day_name        0\n",
       "hour            0\n",
       "is_rush_hour    0\n",
       "is_school       0\n",
       "dtype: int64"
      ]
     },
     "execution_count": 55,
     "metadata": {},
     "output_type": "execute_result"
    }
   ],
   "source": [
    "df.isna().sum()"
   ]
  },
  {
   "cell_type": "markdown",
   "id": "3d9bef1a",
   "metadata": {},
   "source": [
    "**Note:** No missing data in our dataset"
   ]
  },
  {
   "cell_type": "markdown",
   "id": "3957f362",
   "metadata": {},
   "source": [
    "#### Working with categorical data\n",
    "**Two types of categorical data:**\n",
    "- Ordinal (Have sorting properties)\n",
    "- Nominal (Uses dummy variables)"
   ]
  },
  {
   "cell_type": "code",
   "execution_count": 56,
   "id": "3ce238b7",
   "metadata": {},
   "outputs": [
    {
     "data": {
      "text/plain": [
       "Index(['datetime', 'season', 'holiday', 'workingday', 'weather', 'temp',\n",
       "       'humidity', 'windspeed', 'casual', 'registered', 'count', 'profit',\n",
       "       'year', 'month_name', 'month', 'day_name', 'hour', 'is_rush_hour',\n",
       "       'is_school'],\n",
       "      dtype='object')"
      ]
     },
     "execution_count": 56,
     "metadata": {},
     "output_type": "execute_result"
    }
   ],
   "source": [
    "df.columns"
   ]
  },
  {
   "cell_type": "code",
   "execution_count": 57,
   "id": "218eb29e",
   "metadata": {},
   "outputs": [
    {
     "data": {
      "text/html": [
       "<div>\n",
       "<style scoped>\n",
       "    .dataframe tbody tr th:only-of-type {\n",
       "        vertical-align: middle;\n",
       "    }\n",
       "\n",
       "    .dataframe tbody tr th {\n",
       "        vertical-align: top;\n",
       "    }\n",
       "\n",
       "    .dataframe thead th {\n",
       "        text-align: right;\n",
       "    }\n",
       "</style>\n",
       "<table border=\"1\" class=\"dataframe\">\n",
       "  <thead>\n",
       "    <tr style=\"text-align: right;\">\n",
       "      <th></th>\n",
       "      <th>season</th>\n",
       "      <th>holiday</th>\n",
       "      <th>workingday</th>\n",
       "      <th>weather</th>\n",
       "      <th>temp</th>\n",
       "      <th>humidity</th>\n",
       "      <th>count</th>\n",
       "      <th>month</th>\n",
       "      <th>day_name</th>\n",
       "      <th>hour</th>\n",
       "      <th>profit</th>\n",
       "    </tr>\n",
       "  </thead>\n",
       "  <tbody>\n",
       "    <tr>\n",
       "      <th>0</th>\n",
       "      <td>Spring</td>\n",
       "      <td>0</td>\n",
       "      <td>0</td>\n",
       "      <td>Clear</td>\n",
       "      <td>9.84</td>\n",
       "      <td>81</td>\n",
       "      <td>16</td>\n",
       "      <td>1</td>\n",
       "      <td>Saturday</td>\n",
       "      <td>0</td>\n",
       "      <td>107.328767</td>\n",
       "    </tr>\n",
       "    <tr>\n",
       "      <th>1</th>\n",
       "      <td>Spring</td>\n",
       "      <td>0</td>\n",
       "      <td>0</td>\n",
       "      <td>Clear</td>\n",
       "      <td>9.02</td>\n",
       "      <td>80</td>\n",
       "      <td>40</td>\n",
       "      <td>1</td>\n",
       "      <td>Saturday</td>\n",
       "      <td>1</td>\n",
       "      <td>275.028767</td>\n",
       "    </tr>\n",
       "    <tr>\n",
       "      <th>2</th>\n",
       "      <td>Spring</td>\n",
       "      <td>0</td>\n",
       "      <td>0</td>\n",
       "      <td>Clear</td>\n",
       "      <td>9.02</td>\n",
       "      <td>80</td>\n",
       "      <td>32</td>\n",
       "      <td>1</td>\n",
       "      <td>Saturday</td>\n",
       "      <td>2</td>\n",
       "      <td>201.928767</td>\n",
       "    </tr>\n",
       "    <tr>\n",
       "      <th>3</th>\n",
       "      <td>Spring</td>\n",
       "      <td>0</td>\n",
       "      <td>0</td>\n",
       "      <td>Clear</td>\n",
       "      <td>9.84</td>\n",
       "      <td>75</td>\n",
       "      <td>13</td>\n",
       "      <td>1</td>\n",
       "      <td>Saturday</td>\n",
       "      <td>3</td>\n",
       "      <td>94.428767</td>\n",
       "    </tr>\n",
       "    <tr>\n",
       "      <th>4</th>\n",
       "      <td>Spring</td>\n",
       "      <td>0</td>\n",
       "      <td>0</td>\n",
       "      <td>Clear</td>\n",
       "      <td>9.84</td>\n",
       "      <td>75</td>\n",
       "      <td>1</td>\n",
       "      <td>1</td>\n",
       "      <td>Saturday</td>\n",
       "      <td>4</td>\n",
       "      <td>4.128767</td>\n",
       "    </tr>\n",
       "    <tr>\n",
       "      <th>...</th>\n",
       "      <td>...</td>\n",
       "      <td>...</td>\n",
       "      <td>...</td>\n",
       "      <td>...</td>\n",
       "      <td>...</td>\n",
       "      <td>...</td>\n",
       "      <td>...</td>\n",
       "      <td>...</td>\n",
       "      <td>...</td>\n",
       "      <td>...</td>\n",
       "      <td>...</td>\n",
       "    </tr>\n",
       "    <tr>\n",
       "      <th>10881</th>\n",
       "      <td>Winter</td>\n",
       "      <td>0</td>\n",
       "      <td>1</td>\n",
       "      <td>Clear</td>\n",
       "      <td>15.58</td>\n",
       "      <td>50</td>\n",
       "      <td>336</td>\n",
       "      <td>12</td>\n",
       "      <td>Wednesday</td>\n",
       "      <td>19</td>\n",
       "      <td>1534.928767</td>\n",
       "    </tr>\n",
       "    <tr>\n",
       "      <th>10882</th>\n",
       "      <td>Winter</td>\n",
       "      <td>0</td>\n",
       "      <td>1</td>\n",
       "      <td>Clear</td>\n",
       "      <td>14.76</td>\n",
       "      <td>57</td>\n",
       "      <td>241</td>\n",
       "      <td>12</td>\n",
       "      <td>Wednesday</td>\n",
       "      <td>20</td>\n",
       "      <td>1165.128767</td>\n",
       "    </tr>\n",
       "    <tr>\n",
       "      <th>10883</th>\n",
       "      <td>Winter</td>\n",
       "      <td>0</td>\n",
       "      <td>1</td>\n",
       "      <td>Clear</td>\n",
       "      <td>13.94</td>\n",
       "      <td>61</td>\n",
       "      <td>168</td>\n",
       "      <td>12</td>\n",
       "      <td>Wednesday</td>\n",
       "      <td>21</td>\n",
       "      <td>773.828767</td>\n",
       "    </tr>\n",
       "    <tr>\n",
       "      <th>10884</th>\n",
       "      <td>Winter</td>\n",
       "      <td>0</td>\n",
       "      <td>1</td>\n",
       "      <td>Clear</td>\n",
       "      <td>13.94</td>\n",
       "      <td>61</td>\n",
       "      <td>129</td>\n",
       "      <td>12</td>\n",
       "      <td>Wednesday</td>\n",
       "      <td>22</td>\n",
       "      <td>709.328767</td>\n",
       "    </tr>\n",
       "    <tr>\n",
       "      <th>10885</th>\n",
       "      <td>Winter</td>\n",
       "      <td>0</td>\n",
       "      <td>1</td>\n",
       "      <td>Clear</td>\n",
       "      <td>13.12</td>\n",
       "      <td>66</td>\n",
       "      <td>88</td>\n",
       "      <td>12</td>\n",
       "      <td>Wednesday</td>\n",
       "      <td>23</td>\n",
       "      <td>429.828767</td>\n",
       "    </tr>\n",
       "  </tbody>\n",
       "</table>\n",
       "<p>10886 rows × 11 columns</p>\n",
       "</div>"
      ],
      "text/plain": [
       "        season  holiday  workingday weather   temp  humidity  count  month  \\\n",
       "0       Spring        0           0   Clear   9.84        81     16      1   \n",
       "1       Spring        0           0   Clear   9.02        80     40      1   \n",
       "2       Spring        0           0   Clear   9.02        80     32      1   \n",
       "3       Spring        0           0   Clear   9.84        75     13      1   \n",
       "4       Spring        0           0   Clear   9.84        75      1      1   \n",
       "...        ...      ...         ...     ...    ...       ...    ...    ...   \n",
       "10881  Winter         0           1   Clear  15.58        50    336     12   \n",
       "10882  Winter         0           1   Clear  14.76        57    241     12   \n",
       "10883  Winter         0           1   Clear  13.94        61    168     12   \n",
       "10884  Winter         0           1   Clear  13.94        61    129     12   \n",
       "10885  Winter         0           1   Clear  13.12        66     88     12   \n",
       "\n",
       "        day_name  hour       profit  \n",
       "0       Saturday     0   107.328767  \n",
       "1       Saturday     1   275.028767  \n",
       "2       Saturday     2   201.928767  \n",
       "3       Saturday     3    94.428767  \n",
       "4       Saturday     4     4.128767  \n",
       "...          ...   ...          ...  \n",
       "10881  Wednesday    19  1534.928767  \n",
       "10882  Wednesday    20  1165.128767  \n",
       "10883  Wednesday    21   773.828767  \n",
       "10884  Wednesday    22   709.328767  \n",
       "10885  Wednesday    23   429.828767  \n",
       "\n",
       "[10886 rows x 11 columns]"
      ]
     },
     "execution_count": 57,
     "metadata": {},
     "output_type": "execute_result"
    }
   ],
   "source": [
    "df = df[['season', 'holiday', 'workingday', 'weather', 'temp',\n",
    "       'humidity', 'count', 'month', 'day_name', 'hour', 'profit']]\n",
    "df"
   ]
  },
  {
   "cell_type": "code",
   "execution_count": 58,
   "id": "cd8ac4cf",
   "metadata": {},
   "outputs": [
    {
     "data": {
      "text/html": [
       "<div>\n",
       "<style scoped>\n",
       "    .dataframe tbody tr th:only-of-type {\n",
       "        vertical-align: middle;\n",
       "    }\n",
       "\n",
       "    .dataframe tbody tr th {\n",
       "        vertical-align: top;\n",
       "    }\n",
       "\n",
       "    .dataframe thead th {\n",
       "        text-align: right;\n",
       "    }\n",
       "</style>\n",
       "<table border=\"1\" class=\"dataframe\">\n",
       "  <thead>\n",
       "    <tr style=\"text-align: right;\">\n",
       "      <th></th>\n",
       "      <th>holiday</th>\n",
       "      <th>workingday</th>\n",
       "      <th>temp</th>\n",
       "      <th>humidity</th>\n",
       "      <th>count</th>\n",
       "      <th>month</th>\n",
       "      <th>hour</th>\n",
       "      <th>profit</th>\n",
       "      <th>season_Spring</th>\n",
       "      <th>season_Summer</th>\n",
       "      <th>season_Winter</th>\n",
       "      <th>weather_Mist</th>\n",
       "      <th>weather_Rain</th>\n",
       "      <th>weather_Snow</th>\n",
       "      <th>day_name_Monday</th>\n",
       "      <th>day_name_Saturday</th>\n",
       "      <th>day_name_Sunday</th>\n",
       "      <th>day_name_Thursday</th>\n",
       "      <th>day_name_Tuesday</th>\n",
       "      <th>day_name_Wednesday</th>\n",
       "    </tr>\n",
       "  </thead>\n",
       "  <tbody>\n",
       "    <tr>\n",
       "      <th>0</th>\n",
       "      <td>0</td>\n",
       "      <td>0</td>\n",
       "      <td>9.84</td>\n",
       "      <td>81</td>\n",
       "      <td>16</td>\n",
       "      <td>1</td>\n",
       "      <td>0</td>\n",
       "      <td>107.328767</td>\n",
       "      <td>1</td>\n",
       "      <td>0</td>\n",
       "      <td>0</td>\n",
       "      <td>0</td>\n",
       "      <td>0</td>\n",
       "      <td>0</td>\n",
       "      <td>0</td>\n",
       "      <td>1</td>\n",
       "      <td>0</td>\n",
       "      <td>0</td>\n",
       "      <td>0</td>\n",
       "      <td>0</td>\n",
       "    </tr>\n",
       "    <tr>\n",
       "      <th>1</th>\n",
       "      <td>0</td>\n",
       "      <td>0</td>\n",
       "      <td>9.02</td>\n",
       "      <td>80</td>\n",
       "      <td>40</td>\n",
       "      <td>1</td>\n",
       "      <td>1</td>\n",
       "      <td>275.028767</td>\n",
       "      <td>1</td>\n",
       "      <td>0</td>\n",
       "      <td>0</td>\n",
       "      <td>0</td>\n",
       "      <td>0</td>\n",
       "      <td>0</td>\n",
       "      <td>0</td>\n",
       "      <td>1</td>\n",
       "      <td>0</td>\n",
       "      <td>0</td>\n",
       "      <td>0</td>\n",
       "      <td>0</td>\n",
       "    </tr>\n",
       "    <tr>\n",
       "      <th>2</th>\n",
       "      <td>0</td>\n",
       "      <td>0</td>\n",
       "      <td>9.02</td>\n",
       "      <td>80</td>\n",
       "      <td>32</td>\n",
       "      <td>1</td>\n",
       "      <td>2</td>\n",
       "      <td>201.928767</td>\n",
       "      <td>1</td>\n",
       "      <td>0</td>\n",
       "      <td>0</td>\n",
       "      <td>0</td>\n",
       "      <td>0</td>\n",
       "      <td>0</td>\n",
       "      <td>0</td>\n",
       "      <td>1</td>\n",
       "      <td>0</td>\n",
       "      <td>0</td>\n",
       "      <td>0</td>\n",
       "      <td>0</td>\n",
       "    </tr>\n",
       "    <tr>\n",
       "      <th>3</th>\n",
       "      <td>0</td>\n",
       "      <td>0</td>\n",
       "      <td>9.84</td>\n",
       "      <td>75</td>\n",
       "      <td>13</td>\n",
       "      <td>1</td>\n",
       "      <td>3</td>\n",
       "      <td>94.428767</td>\n",
       "      <td>1</td>\n",
       "      <td>0</td>\n",
       "      <td>0</td>\n",
       "      <td>0</td>\n",
       "      <td>0</td>\n",
       "      <td>0</td>\n",
       "      <td>0</td>\n",
       "      <td>1</td>\n",
       "      <td>0</td>\n",
       "      <td>0</td>\n",
       "      <td>0</td>\n",
       "      <td>0</td>\n",
       "    </tr>\n",
       "    <tr>\n",
       "      <th>4</th>\n",
       "      <td>0</td>\n",
       "      <td>0</td>\n",
       "      <td>9.84</td>\n",
       "      <td>75</td>\n",
       "      <td>1</td>\n",
       "      <td>1</td>\n",
       "      <td>4</td>\n",
       "      <td>4.128767</td>\n",
       "      <td>1</td>\n",
       "      <td>0</td>\n",
       "      <td>0</td>\n",
       "      <td>0</td>\n",
       "      <td>0</td>\n",
       "      <td>0</td>\n",
       "      <td>0</td>\n",
       "      <td>1</td>\n",
       "      <td>0</td>\n",
       "      <td>0</td>\n",
       "      <td>0</td>\n",
       "      <td>0</td>\n",
       "    </tr>\n",
       "    <tr>\n",
       "      <th>...</th>\n",
       "      <td>...</td>\n",
       "      <td>...</td>\n",
       "      <td>...</td>\n",
       "      <td>...</td>\n",
       "      <td>...</td>\n",
       "      <td>...</td>\n",
       "      <td>...</td>\n",
       "      <td>...</td>\n",
       "      <td>...</td>\n",
       "      <td>...</td>\n",
       "      <td>...</td>\n",
       "      <td>...</td>\n",
       "      <td>...</td>\n",
       "      <td>...</td>\n",
       "      <td>...</td>\n",
       "      <td>...</td>\n",
       "      <td>...</td>\n",
       "      <td>...</td>\n",
       "      <td>...</td>\n",
       "      <td>...</td>\n",
       "    </tr>\n",
       "    <tr>\n",
       "      <th>10881</th>\n",
       "      <td>0</td>\n",
       "      <td>1</td>\n",
       "      <td>15.58</td>\n",
       "      <td>50</td>\n",
       "      <td>336</td>\n",
       "      <td>12</td>\n",
       "      <td>19</td>\n",
       "      <td>1534.928767</td>\n",
       "      <td>0</td>\n",
       "      <td>0</td>\n",
       "      <td>1</td>\n",
       "      <td>0</td>\n",
       "      <td>0</td>\n",
       "      <td>0</td>\n",
       "      <td>0</td>\n",
       "      <td>0</td>\n",
       "      <td>0</td>\n",
       "      <td>0</td>\n",
       "      <td>0</td>\n",
       "      <td>1</td>\n",
       "    </tr>\n",
       "    <tr>\n",
       "      <th>10882</th>\n",
       "      <td>0</td>\n",
       "      <td>1</td>\n",
       "      <td>14.76</td>\n",
       "      <td>57</td>\n",
       "      <td>241</td>\n",
       "      <td>12</td>\n",
       "      <td>20</td>\n",
       "      <td>1165.128767</td>\n",
       "      <td>0</td>\n",
       "      <td>0</td>\n",
       "      <td>1</td>\n",
       "      <td>0</td>\n",
       "      <td>0</td>\n",
       "      <td>0</td>\n",
       "      <td>0</td>\n",
       "      <td>0</td>\n",
       "      <td>0</td>\n",
       "      <td>0</td>\n",
       "      <td>0</td>\n",
       "      <td>1</td>\n",
       "    </tr>\n",
       "    <tr>\n",
       "      <th>10883</th>\n",
       "      <td>0</td>\n",
       "      <td>1</td>\n",
       "      <td>13.94</td>\n",
       "      <td>61</td>\n",
       "      <td>168</td>\n",
       "      <td>12</td>\n",
       "      <td>21</td>\n",
       "      <td>773.828767</td>\n",
       "      <td>0</td>\n",
       "      <td>0</td>\n",
       "      <td>1</td>\n",
       "      <td>0</td>\n",
       "      <td>0</td>\n",
       "      <td>0</td>\n",
       "      <td>0</td>\n",
       "      <td>0</td>\n",
       "      <td>0</td>\n",
       "      <td>0</td>\n",
       "      <td>0</td>\n",
       "      <td>1</td>\n",
       "    </tr>\n",
       "    <tr>\n",
       "      <th>10884</th>\n",
       "      <td>0</td>\n",
       "      <td>1</td>\n",
       "      <td>13.94</td>\n",
       "      <td>61</td>\n",
       "      <td>129</td>\n",
       "      <td>12</td>\n",
       "      <td>22</td>\n",
       "      <td>709.328767</td>\n",
       "      <td>0</td>\n",
       "      <td>0</td>\n",
       "      <td>1</td>\n",
       "      <td>0</td>\n",
       "      <td>0</td>\n",
       "      <td>0</td>\n",
       "      <td>0</td>\n",
       "      <td>0</td>\n",
       "      <td>0</td>\n",
       "      <td>0</td>\n",
       "      <td>0</td>\n",
       "      <td>1</td>\n",
       "    </tr>\n",
       "    <tr>\n",
       "      <th>10885</th>\n",
       "      <td>0</td>\n",
       "      <td>1</td>\n",
       "      <td>13.12</td>\n",
       "      <td>66</td>\n",
       "      <td>88</td>\n",
       "      <td>12</td>\n",
       "      <td>23</td>\n",
       "      <td>429.828767</td>\n",
       "      <td>0</td>\n",
       "      <td>0</td>\n",
       "      <td>1</td>\n",
       "      <td>0</td>\n",
       "      <td>0</td>\n",
       "      <td>0</td>\n",
       "      <td>0</td>\n",
       "      <td>0</td>\n",
       "      <td>0</td>\n",
       "      <td>0</td>\n",
       "      <td>0</td>\n",
       "      <td>1</td>\n",
       "    </tr>\n",
       "  </tbody>\n",
       "</table>\n",
       "<p>10886 rows × 20 columns</p>\n",
       "</div>"
      ],
      "text/plain": [
       "       holiday  workingday   temp  humidity  count  month  hour       profit  \\\n",
       "0            0           0   9.84        81     16      1     0   107.328767   \n",
       "1            0           0   9.02        80     40      1     1   275.028767   \n",
       "2            0           0   9.02        80     32      1     2   201.928767   \n",
       "3            0           0   9.84        75     13      1     3    94.428767   \n",
       "4            0           0   9.84        75      1      1     4     4.128767   \n",
       "...        ...         ...    ...       ...    ...    ...   ...          ...   \n",
       "10881        0           1  15.58        50    336     12    19  1534.928767   \n",
       "10882        0           1  14.76        57    241     12    20  1165.128767   \n",
       "10883        0           1  13.94        61    168     12    21   773.828767   \n",
       "10884        0           1  13.94        61    129     12    22   709.328767   \n",
       "10885        0           1  13.12        66     88     12    23   429.828767   \n",
       "\n",
       "       season_Spring  season_Summer  season_Winter   weather_Mist  \\\n",
       "0                  1              0               0             0   \n",
       "1                  1              0               0             0   \n",
       "2                  1              0               0             0   \n",
       "3                  1              0               0             0   \n",
       "4                  1              0               0             0   \n",
       "...              ...            ...             ...           ...   \n",
       "10881              0              0               1             0   \n",
       "10882              0              0               1             0   \n",
       "10883              0              0               1             0   \n",
       "10884              0              0               1             0   \n",
       "10885              0              0               1             0   \n",
       "\n",
       "       weather_Rain  weather_Snow  day_name_Monday  day_name_Saturday  \\\n",
       "0                 0             0                0                  1   \n",
       "1                 0             0                0                  1   \n",
       "2                 0             0                0                  1   \n",
       "3                 0             0                0                  1   \n",
       "4                 0             0                0                  1   \n",
       "...             ...           ...              ...                ...   \n",
       "10881             0             0                0                  0   \n",
       "10882             0             0                0                  0   \n",
       "10883             0             0                0                  0   \n",
       "10884             0             0                0                  0   \n",
       "10885             0             0                0                  0   \n",
       "\n",
       "       day_name_Sunday  day_name_Thursday  day_name_Tuesday  \\\n",
       "0                    0                  0                 0   \n",
       "1                    0                  0                 0   \n",
       "2                    0                  0                 0   \n",
       "3                    0                  0                 0   \n",
       "4                    0                  0                 0   \n",
       "...                ...                ...               ...   \n",
       "10881                0                  0                 0   \n",
       "10882                0                  0                 0   \n",
       "10883                0                  0                 0   \n",
       "10884                0                  0                 0   \n",
       "10885                0                  0                 0   \n",
       "\n",
       "       day_name_Wednesday  \n",
       "0                       0  \n",
       "1                       0  \n",
       "2                       0  \n",
       "3                       0  \n",
       "4                       0  \n",
       "...                   ...  \n",
       "10881                   1  \n",
       "10882                   1  \n",
       "10883                   1  \n",
       "10884                   1  \n",
       "10885                   1  \n",
       "\n",
       "[10886 rows x 20 columns]"
      ]
     },
     "execution_count": 58,
     "metadata": {},
     "output_type": "execute_result"
    }
   ],
   "source": [
    "df = pd.get_dummies(data = df, columns = ['season', 'weather', 'day_name'], drop_first=True)\n",
    "df"
   ]
  },
  {
   "cell_type": "markdown",
   "id": "b3a2e704",
   "metadata": {},
   "source": [
    "#### Split data into train and test sets\n"
   ]
  },
  {
   "cell_type": "code",
   "execution_count": 59,
   "id": "d74a2c3b",
   "metadata": {},
   "outputs": [],
   "source": [
    "X = df.drop('profit', axis = 1)\n",
    "y = df['profit']"
   ]
  },
  {
   "cell_type": "code",
   "execution_count": 60,
   "id": "2e3ec712",
   "metadata": {},
   "outputs": [],
   "source": [
    "from sklearn.model_selection import train_test_split\n",
    "\n",
    "X_train, X_test, y_train, y_test = train_test_split(X, y, test_size=0.30, random_state=0)"
   ]
  },
  {
   "cell_type": "markdown",
   "id": "08fef3d9",
   "metadata": {},
   "source": [
    "#### Feature scaling"
   ]
  },
  {
   "cell_type": "code",
   "execution_count": 61,
   "id": "eb79f00d",
   "metadata": {},
   "outputs": [],
   "source": [
    "from sklearn.preprocessing import StandardScaler\n",
    "\n",
    "scaler = StandardScaler()\n",
    "scaler.fit(X_train)\n",
    "X_train = scaler.transform(X_train)\n",
    "X_test = scaler.transform(X_test)"
   ]
  },
  {
   "cell_type": "markdown",
   "id": "46ae32b3",
   "metadata": {},
   "source": [
    "#### Machine Learning"
   ]
  },
  {
   "cell_type": "code",
   "execution_count": 62,
   "id": "54388e1d",
   "metadata": {},
   "outputs": [],
   "source": [
    "from sklearn.linear_model import LinearRegression\n",
    "from sklearn.neighbors import KNeighborsRegressor\n",
    "from sklearn.svm import SVR\n",
    "from sklearn.tree import DecisionTreeRegressor\n",
    "from sklearn.ensemble import RandomForestRegressor\n",
    "from xgboost import XGBRegressor\n",
    "from sklearn.metrics import mean_squared_error"
   ]
  },
  {
   "cell_type": "code",
   "execution_count": 63,
   "id": "ea2db7d3",
   "metadata": {},
   "outputs": [],
   "source": [
    "models = {\n",
    "    \"LR\" : LinearRegression(),\n",
    "    \"KNNR\" : KNeighborsRegressor(),\n",
    "    \"SVR\" : SVR(),\n",
    "    \"DT\" : DecisionTreeRegressor(),\n",
    "    \"RF\" : RandomForestRegressor(),\n",
    "    \"XGBR\" : XGBRegressor()\n",
    "}"
   ]
  },
  {
   "cell_type": "code",
   "execution_count": 64,
   "id": "5cfcf47e",
   "metadata": {},
   "outputs": [
    {
     "name": "stdout",
     "output_type": "stream",
     "text": [
      "Using model: LR\n",
      "Trainning Score: 0.9185591481488166\n",
      "Test Score: 0.9187846664430072\n",
      "MSE: 374.3615354420458\n",
      "======================================================\n",
      "Using model: KNNR\n",
      "Trainning Score: 0.9629734932597466\n",
      "Test Score: 0.9379705959245404\n",
      "MSE: 327.16814237829254\n",
      "======================================================\n",
      "Using model: SVR\n",
      "Trainning Score: 0.15208619673390866\n",
      "Test Score: 0.13974221741745552\n",
      "MSE: 1218.3905133892351\n",
      "======================================================\n",
      "Using model: DT\n",
      "Trainning Score: 0.9999999936155469\n",
      "Test Score: 0.9704767923466462\n",
      "MSE: 225.7116493392134\n",
      "======================================================\n",
      "Using model: RF\n",
      "Trainning Score: 0.9976170456912871\n",
      "Test Score: 0.9848660704876593\n",
      "MSE: 161.60249333385633\n",
      "======================================================\n",
      "Using model: XGBR\n",
      "Trainning Score: 0.9972505709490951\n",
      "Test Score: 0.9868399713011414\n",
      "MSE: 150.69561731068268\n",
      "======================================================\n"
     ]
    }
   ],
   "source": [
    "for name, model in models.items():\n",
    "    print(f'Using model: {name}')\n",
    "    model.fit(X_train, y_train)\n",
    "    print(f'Trainning Score: {model.score(X_train, y_train)}')\n",
    "    print(f'Test Score: {model.score(X_test, y_test)}')\n",
    "    y_pred = model.predict(X_test)\n",
    "    print(f'MSE: {np.sqrt(mean_squared_error(y_test, y_pred))}')\n",
    "    print('======================================================')"
   ]
  }
 ],
 "metadata": {
  "kernelspec": {
   "display_name": "Python 3 (ipykernel)",
   "language": "python",
   "name": "python3"
  },
  "language_info": {
   "codemirror_mode": {
    "name": "ipython",
    "version": 3
   },
   "file_extension": ".py",
   "mimetype": "text/x-python",
   "name": "python",
   "nbconvert_exporter": "python",
   "pygments_lexer": "ipython3",
   "version": "3.10.0"
  }
 },
 "nbformat": 4,
 "nbformat_minor": 5
}
